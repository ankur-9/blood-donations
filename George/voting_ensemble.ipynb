{
 "cells": [
  {
   "cell_type": "markdown",
   "metadata": {},
   "source": [
    "# voting_ensemble_soft"
   ]
  },
  {
   "cell_type": "code",
   "execution_count": 1,
   "metadata": {
    "collapsed": false
   },
   "outputs": [],
   "source": [
    "from __future__      import division\n",
    "from IPython.display import display\n",
    "from matplotlib      import pyplot as plt\n",
    "%matplotlib inline\n",
    "\n",
    "import numpy  as np\n",
    "import pandas as pd\n",
    "import random, sys, os, re\n",
    "\n",
    "from sklearn.ensemble         import VotingClassifier\n",
    "\n",
    "from sklearn.ensemble         import GradientBoostingClassifier\n",
    "from sklearn.ensemble         import ExtraTreesClassifier\n",
    "from sklearn.linear_model     import LogisticRegression\n",
    "from sklearn.linear_model     import LogisticRegressionCV\n",
    "import xgboost as xgb\n",
    "\n",
    "from sklearn.cross_validation import StratifiedKFold\n",
    "from sklearn.grid_search      import RandomizedSearchCV, GridSearchCV\n",
    "from sklearn.cross_validation import cross_val_predict, permutation_test_score"
   ]
  },
  {
   "cell_type": "code",
   "execution_count": 16,
   "metadata": {
    "collapsed": true
   },
   "outputs": [],
   "source": [
    "SEED   = 97\n",
    "scale  = False \n",
    "minmax = False\n",
    "norm   = False\n",
    "nointercept = False\n",
    "engineering = False\n",
    "\n",
    "N_CLASSES = 2\n",
    "\n",
    "submission_filename = \"../submissions/submission_voting_ensemble_softWgtd.csv\""
   ]
  },
  {
   "cell_type": "markdown",
   "metadata": {
    "collapsed": false
   },
   "source": [
    "# Load the training data"
   ]
  },
  {
   "cell_type": "code",
   "execution_count": 3,
   "metadata": {
    "collapsed": false
   },
   "outputs": [],
   "source": [
    "from load_blood_data import load_blood_data\n",
    "\n",
    "y_train, X_train = load_blood_data(train=True, SEED   = SEED, \n",
    "                                               scale  = scale,\n",
    "                                               minmax = minmax,\n",
    "                                               norm   = norm,\n",
    "                                               nointercept = nointercept,\n",
    "                                               engineering = engineering)"
   ]
  },
  {
   "cell_type": "markdown",
   "metadata": {},
   "source": [
    "# Train the model"
   ]
  },
  {
   "cell_type": "code",
   "execution_count": 4,
   "metadata": {
    "collapsed": true
   },
   "outputs": [],
   "source": [
    "StatifiedCV = StratifiedKFold(y            = y_train, \n",
    "                              n_folds      = 10, \n",
    "                              shuffle      = True, \n",
    "                              random_state = SEED)"
   ]
  },
  {
   "cell_type": "code",
   "execution_count": 5,
   "metadata": {
    "collapsed": false,
    "scrolled": false
   },
   "outputs": [
    {
     "name": "stdout",
     "output_type": "stream",
     "text": [
      "CPU times: user 164 ms, sys: 20 ms, total: 184 ms\n",
      "Wall time: 401 ms\n"
     ]
    }
   ],
   "source": [
    "%%time\n",
    "\n",
    "random.seed(SEED)\n",
    "\n",
    "# -------------------------------- estimators ----------------------------------------\n",
    "gbc = GradientBoostingClassifier(loss                     = 'exponential',\n",
    "                                 learning_rate            = 0.15, \n",
    "                                 n_estimators             = 175, \n",
    "                                 max_depth                = 1, \n",
    "                                 subsample                = 0.75, \n",
    "                                 \n",
    "                                 min_samples_split        = 2, \n",
    "                                 min_samples_leaf         = 1, \n",
    "                                 #min_weight_fraction_leaf = 0.0, \n",
    "                                 init                     = None, \n",
    "                                 random_state             = SEED, \n",
    "                                 max_features             = None, \n",
    "                                 verbose                  = 0, \n",
    "                                 max_leaf_nodes           = None, \n",
    "                                 warm_start               = False) \n",
    "                                 #presort                  = 'auto')\n",
    "    \n",
    "etc = ExtraTreesClassifier(n_estimators             = 10, \n",
    "                           criterion                = 'entropy', \n",
    "                           max_depth                = 7, \n",
    "                           bootstrap                = True, \n",
    "                           max_features             = None,\n",
    "                           \n",
    "                           min_samples_split        = 2, \n",
    "                           min_samples_leaf         = 1, \n",
    "                           #min_weight_fraction_leaf = 0.0, \n",
    "                            \n",
    "                           max_leaf_nodes           = None, \n",
    "                           oob_score                = False, \n",
    "                           n_jobs                   = -1, \n",
    "                           random_state             = SEED, \n",
    "                           verbose                  = 0) \n",
    "                           #warm_start               = False, \n",
    "                           #class_weight             = None)\n",
    "        \n",
    "xgbc = xgb.XGBClassifier(learning_rate    = 0.1,\n",
    "                         n_estimators     = 50, \n",
    "                         max_depth        = 5,\n",
    "                         subsample        = 0.25,\n",
    "                         colsample_bytree = 0.75,\n",
    "                         gamma            = 0, \n",
    "                        \n",
    "                         nthread          = 1, \n",
    "                         objective        = 'binary:logistic', \n",
    "                         min_child_weight = 1, \n",
    "                         max_delta_step   = 0, \n",
    "                         base_score       = 0.5, \n",
    "                         seed             = SEED,\n",
    "                         silent           = True,\n",
    "                         missing          = None)\n",
    "\n",
    "logit = LogisticRegression(penalty           = 'l2',          \n",
    "                         dual              = False, \n",
    "                         C                 = 0.001, \n",
    "                         fit_intercept     = True,\n",
    "                         solver            = 'liblinear',   \n",
    "                         max_iter          = 50, \n",
    "                         intercept_scaling = 1,\n",
    "                         \n",
    "                         tol               = 0.0001, \n",
    "                         class_weight      = None, \n",
    "                         random_state      = SEED, \n",
    "                         multi_class       = 'ovr', \n",
    "                         verbose           = 0, \n",
    "                         warm_start        = False, \n",
    "                         n_jobs            = -1)\n",
    "\n",
    "logitCV = LogisticRegressionCV(Cs            = 10, \n",
    "                           cv                = 10,\n",
    "                           \n",
    "                           fit_intercept     = True, \n",
    "                           penalty           = 'l2',\n",
    "                           solver            = 'liblinear', \n",
    "                           max_iter          = 50,\n",
    "                            \n",
    "                           dual              = False, \n",
    "                           scoring           = None, \n",
    "                           tol               = 0.0001, \n",
    "                           class_weight      = None, \n",
    "                           n_jobs            = -1, \n",
    "                           verbose           = 0, \n",
    "                           refit             = True, \n",
    "                           intercept_scaling = 1.0, \n",
    "                           multi_class       = 'ovr', \n",
    "                           random_state      = SEED)\n",
    "\n",
    "# -------------------------------- VotingClassifier ----------------------------------------\n",
    "\n",
    "estimator_list = [('gbc', gbc), ('etc', etc), ('xgbc', xgbc), ('logit', logit), ('logitCV',logitCV)]\n",
    "weights_list   = [      1,          0.75,           0.75,               2,                  1]\n",
    "\n",
    "clf = VotingClassifier(estimators = estimator_list, \n",
    "                       voting     = 'soft', \n",
    "                       weights    = weights_list)\n",
    "\n",
    "clf.fit(X_train, y_train)"
   ]
  },
  {
   "cell_type": "code",
   "execution_count": 6,
   "metadata": {
    "collapsed": false
   },
   "outputs": [],
   "source": [
    "# from sklearn_utilities import GridSearchHeatmap\n",
    "\n",
    "# GridSearchHeatmap(grid_clf, y_key='learning_rate', x_key='n_estimators')\n",
    "\n",
    "# from sklearn_utilities import plot_validation_curves\n",
    "\n",
    "# plot_validation_curves(grid_clf, param_grid, X_train, y_train, ylim = (0.0, 1.05))"
   ]
  },
  {
   "cell_type": "code",
   "execution_count": 7,
   "metadata": {
    "collapsed": false
   },
   "outputs": [
    {
     "data": {
      "image/png": "[encoded data removed]",
      "text/plain": [
       "<matplotlib.figure.Figure at 0x7f284d890e50>"
      ]
     },
     "metadata": {},
     "output_type": "display_data"
    },
    {
     "name": "stdout",
     "output_type": "stream",
     "text": [
      "CPU times: user 7.36 s, sys: 1.49 s, total: 8.85 s\n",
      "Wall time: 31 s\n"
     ]
    }
   ],
   "source": [
    "%%time\n",
    "\n",
    "try:\n",
    "    from sklearn_utilities import plot_learning_curve\n",
    "except:\n",
    "    import imp, os\n",
    "    util = imp.load_source('sklearn_utilities', os.path.expanduser('~/Dropbox/Python/sklearn_utilities.py'))\n",
    "    from sklearn_utilities import plot_learning_curve\n",
    "\n",
    "plot_learning_curve(estimator   = clf, \n",
    "                    title       = None, \n",
    "                    X           = X_train, \n",
    "                    y           = y_train, \n",
    "                    ylim        = (0.0, 1.10), \n",
    "                    cv          = StratifiedKFold(y            = y_train, \n",
    "                                                  n_folds      = 10, \n",
    "                                                  shuffle      = True, \n",
    "                                                  random_state = SEED), \n",
    "                    train_sizes = np.linspace(.1, 1.0, 5),\n",
    "                    n_jobs      = 1)\n",
    "\n",
    "plt.show()"
   ]
  },
  {
   "cell_type": "markdown",
   "metadata": {},
   "source": [
    "# Training set predictions"
   ]
  },
  {
   "cell_type": "code",
   "execution_count": 8,
   "metadata": {
    "collapsed": false
   },
   "outputs": [
    {
     "name": "stdout",
     "output_type": "stream",
     "text": [
      "CPU times: user 1.64 s, sys: 276 ms, total: 1.92 s\n",
      "Wall time: 5.23 s\n"
     ]
    }
   ],
   "source": [
    "%%time\n",
    "\n",
    "train_preds = cross_val_predict(estimator    = clf, \n",
    "                                X            = X_train, \n",
    "                                y            = y_train, \n",
    "                                cv           = StatifiedCV, \n",
    "                                n_jobs       = 1, \n",
    "                                verbose      = 0, \n",
    "                                fit_params   = None, \n",
    "                                pre_dispatch = '2*n_jobs')\n",
    "\n",
    "y_true, y_pred   = y_train, train_preds"
   ]
  },
  {
   "cell_type": "code",
   "execution_count": 9,
   "metadata": {
    "collapsed": false
   },
   "outputs": [
    {
     "name": "stdout",
     "output_type": "stream",
     "text": [
      "[[417  21]\n",
      " [102  36]]\n"
     ]
    },
    {
     "data": {
      "image/png": "[encoded data removed]",
      "text/plain": [
       "<matplotlib.figure.Figure at 0x7f284d7898d0>"
      ]
     },
     "metadata": {},
     "output_type": "display_data"
    },
    {
     "name": "stdout",
     "output_type": "stream",
     "text": [
      "Accuracy 0.7865, mis-class rate 0.2135\n"
     ]
    }
   ],
   "source": [
    "from sklearn.metrics import confusion_matrix\n",
    "cm = confusion_matrix(y_true, y_pred, labels=None)\n",
    "print cm\n",
    "\n",
    "try:\n",
    "    from sklearn_utilities import plot_confusion_matrix\n",
    "except:\n",
    "    import imp, os\n",
    "    util = imp.load_source('sklearn_utilities', os.path.expanduser('~/Dropbox/Python/sklearn_utilities.py'))\n",
    "    from sklearn_utilities import plot_confusion_matrix\n",
    "\n",
    "plot_confusion_matrix(cm, ['Did not Donate','Donated'])\n",
    "\n",
    "accuracy = round(np.trace(cm)/float(np.sum(cm)),4)\n",
    "misclass = 1 - accuracy\n",
    "print(\"Accuracy {}, mis-class rate {}\".format(accuracy,misclass))"
   ]
  },
  {
   "cell_type": "code",
   "execution_count": 10,
   "metadata": {
    "collapsed": false
   },
   "outputs": [
    {
     "data": {
      "image/png": "[encoded data removed]",
      "text/plain": [
       "<matplotlib.figure.Figure at 0x7f284d789f10>"
      ]
     },
     "metadata": {},
     "output_type": "display_data"
    }
   ],
   "source": [
    "from sklearn.metrics import roc_curve\n",
    "from sklearn.metrics import roc_auc_score\n",
    "from sklearn.metrics import log_loss\n",
    "from sklearn.metrics import f1_score\n",
    "\n",
    "fpr, tpr, thresholds = roc_curve(y_true, y_pred, pos_label=None)\n",
    "\n",
    "\n",
    "plt.figure(figsize=(10,6))\n",
    "plt.plot([0, 1], [0, 1], 'k--')\n",
    "plt.plot(fpr, tpr)\n",
    "\n",
    "AUC = roc_auc_score(y_true, y_pred, average='macro')\n",
    "plt.text(x=0.6,y=0.4,s=\"AUC         {:.4f}\"\\\n",
    "         .format(AUC),\n",
    "        fontsize=16)\n",
    "\n",
    "plt.text(x=0.6,y=0.3,s=\"accuracy {:.2f}%\"\\\n",
    "         .format(accuracy*100),\n",
    "        fontsize=16)\n",
    "\n",
    "logloss = log_loss(y_true, y_pred)\n",
    "plt.text(x=0.6,y=0.2,s=\"LogLoss   {:.4f}\"\\\n",
    "         .format(logloss),\n",
    "        fontsize=16)\n",
    "\n",
    "f1 = f1_score(y_true, y_pred)\n",
    "plt.text(x=0.6,y=0.1,s=\"f1             {:.4f}\"\\\n",
    "         .format(f1),\n",
    "        fontsize=16)\n",
    "\n",
    "plt.xlabel('False positive rate')\n",
    "plt.ylabel('True positive rate')\n",
    "plt.title('ROC curve')\n",
    "plt.show()"
   ]
  },
  {
   "cell_type": "code",
   "execution_count": 11,
   "metadata": {
    "collapsed": false
   },
   "outputs": [
    {
     "name": "stdout",
     "output_type": "stream",
     "text": [
      "CPU times: user 2min 40s, sys: 29.1 s, total: 3min 9s\n",
      "Wall time: 8min 44s\n"
     ]
    }
   ],
   "source": [
    "%%time\n",
    "\n",
    "score, permutation_scores, pvalue = permutation_test_score(estimator      = clf, \n",
    "                                                           X              = X_train.values.astype(np.float32), \n",
    "                                                           y              = y_train, \n",
    "                                                           cv             = StatifiedCV, \n",
    "                                                           labels         = None,\n",
    "                                                           random_state   = SEED,\n",
    "                                                           verbose        = 0,\n",
    "                                                           n_permutations = 100, \n",
    "                                                           scoring        = None,\n",
    "                                                           n_jobs         = 1) \n",
    "\n"
   ]
  },
  {
   "cell_type": "code",
   "execution_count": 12,
   "metadata": {
    "collapsed": false
   },
   "outputs": [
    {
     "data": {
      "image/png": "[encoded data removed]",
      "text/plain": [
       "<matplotlib.figure.Figure at 0x7f284d64b610>"
      ]
     },
     "metadata": {},
     "output_type": "display_data"
    }
   ],
   "source": [
    "plt.figure(figsize=(20,8))\n",
    "plt.hist(permutation_scores, 20, label='Permutation scores')\n",
    "\n",
    "ylim = plt.ylim()\n",
    "plt.plot(2 * [score], ylim, '--g', linewidth=3,\n",
    "         label='Classification Score (pvalue {:.4f})'.format(pvalue))\n",
    "         \n",
    "plt.plot(2 * [1. / N_CLASSES], ylim, 'r', linewidth=7, label='Luck')\n",
    "\n",
    "plt.ylim(ylim)\n",
    "plt.legend(loc='center',fontsize=16)\n",
    "plt.xlabel('Score')\n",
    "plt.show()\n",
    "\n",
    "# find mean and stdev of the scores\n",
    "from scipy.stats import norm\n",
    "mu, std = norm.fit(permutation_scores)"
   ]
  },
  {
   "cell_type": "code",
   "execution_count": 13,
   "metadata": {
    "collapsed": false
   },
   "outputs": [
    {
     "name": "stdout",
     "output_type": "stream",
     "text": [
      "voting_ensemble_softWgtd   ,        ,   0.7865 ,  7.3755 , 0.6065 , 0.3692 , 0.7600 , 0.0013\n"
     ]
    }
   ],
   "source": [
    "# format for scores.csv file\n",
    "import re\n",
    "algo = re.search(r\"submission_(.*?)\\.csv\", submission_filename).group(1)\n",
    "print(\"{: <26} ,        ,   {:.4f} ,  {:.4f} , {:.4f} , {:.4f} , {:.4f} , {:.4f}\"\\\n",
    "      .format(algo,accuracy,logloss,AUC,f1,mu,std))"
   ]
  },
  {
   "cell_type": "markdown",
   "metadata": {},
   "source": [
    "# --------------------------------------------------------------------------------------------"
   ]
  },
  {
   "cell_type": "markdown",
   "metadata": {
    "collapsed": true
   },
   "source": [
    "# Test Set Predictions"
   ]
  },
  {
   "cell_type": "markdown",
   "metadata": {},
   "source": [
    "## Re-fit with the full training set"
   ]
  },
  {
   "cell_type": "code",
   "execution_count": 14,
   "metadata": {
    "collapsed": false
   },
   "outputs": [
    {
     "data": {
      "text/plain": [
       "VotingClassifier(estimators=[('gbc', GradientBoostingClassifier(init=None, learning_rate=0.15, loss='exponential',\n",
       "              max_depth=1, max_features=None, max_leaf_nodes=None,\n",
       "              min_samples_leaf=1, min_samples_split=2,\n",
       "              min_weight_fraction_leaf=0.0, n_estimators=175,\n",
       "              pres...ate=97,\n",
       "           refit=True, scoring=None, solver='liblinear', tol=0.0001,\n",
       "           verbose=0))],\n",
       "         voting='soft', weights=[1, 0.75, 0.75, 2, 1])"
      ]
     },
     "execution_count": 14,
     "metadata": {},
     "output_type": "execute_result"
    }
   ],
   "source": [
    "#clf.set_params(**clf_params)\n",
    "clf.fit(X_train, y_train)"
   ]
  },
  {
   "cell_type": "markdown",
   "metadata": {},
   "source": [
    "## Load the test data"
   ]
  },
  {
   "cell_type": "code",
   "execution_count": 17,
   "metadata": {
    "collapsed": false
   },
   "outputs": [],
   "source": [
    "from load_blood_data import load_blood_data\n",
    "\n",
    "X_test, IDs = load_blood_data(train=False, SEED   = SEED, \n",
    "                                           scale  = scale,\n",
    "                                           minmax = minmax,\n",
    "                                           norm   = norm,\n",
    "                                           nointercept = nointercept,\n",
    "                                           engineering = engineering)"
   ]
  },
  {
   "cell_type": "markdown",
   "metadata": {},
   "source": [
    "# Predict the test set with the fitted model"
   ]
  },
  {
   "cell_type": "code",
   "execution_count": 18,
   "metadata": {
    "collapsed": false
   },
   "outputs": [
    {
     "name": "stdout",
     "output_type": "stream",
     "text": [
      "[0 0 0 0 1 1 0 0 0 0]\n",
      "[[ 0.53386636  0.46613364]\n",
      " [ 0.85390385  0.14609615]\n",
      " [ 0.7004128   0.29958721]\n",
      " [ 0.72391782  0.27608219]\n",
      " [ 0.4631666   0.5368334 ]\n",
      " [ 0.22789016  0.77210984]\n",
      " [ 0.63663312  0.36336688]\n",
      " [ 0.87954593  0.12045408]\n",
      " [ 0.98506669  0.01493331]\n",
      " [ 0.95267967  0.04732033]]\n",
      "[0.46613364447000799, 0.14609615014001676, 0.29958720575167985, 0.27608218508709048, 0.53683340216646158, 0.77210984281716322, 0.36336688007603668, 0.12045407518811148, 0.014933309338141213, 0.047320326540905892]\n"
     ]
    }
   ],
   "source": [
    "y_pred = clf.predict(X_test)\n",
    "print(y_pred[:10])\n",
    "\n",
    "try:\n",
    "    y_pred_probs  = clf.predict_proba(X_test)\n",
    "    print(y_pred_probs[:10])\n",
    "    donate_probs  = [prob[1] for prob in y_pred_probs]\n",
    "except Exception,e:\n",
    "    print(e)\n",
    "    donate_probs = [0.65 if x>0 else 1-0.65 for x in y_pred]\n",
    "    \n",
    "print(donate_probs[:10])"
   ]
  },
  {
   "cell_type": "markdown",
   "metadata": {},
   "source": [
    "# Create the submission file"
   ]
  },
  {
   "cell_type": "code",
   "execution_count": 19,
   "metadata": {
    "collapsed": false
   },
   "outputs": [],
   "source": [
    "assert len(IDs)==len(donate_probs)\n",
    "\n",
    "f = open(submission_filename, \"w\")\n",
    "\n",
    "f.write(\",Made Donation in March 2007\\n\")\n",
    "for ID, prob in zip(IDs, donate_probs):\n",
    "    f.write(\"{},{}\\n\".format(ID,prob))\n",
    "    \n",
    "f.close()"
   ]
  },
  {
   "cell_type": "code",
   "execution_count": null,
   "metadata": {
    "collapsed": true
   },
   "outputs": [],
   "source": []
  }
 ],
 "metadata": {
  "kernelspec": {
   "display_name": "Python 2",
   "language": "python",
   "name": "python2"
  },
  "language_info": {
   "codemirror_mode": {
    "name": "ipython",
    "version": 2
   },
   "file_extension": ".py",
   "mimetype": "text/x-python",
   "name": "python",
   "nbconvert_exporter": "python",
   "pygments_lexer": "ipython2",
   "version": "2.7.10"
  }
 },
 "nbformat": 4,
 "nbformat_minor": 0
}
