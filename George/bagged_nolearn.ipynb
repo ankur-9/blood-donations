{
 "cells": [
  {
   "cell_type": "markdown",
   "metadata": {},
   "source": [
    "# bagged_nolearn"
   ]
  },
  {
   "cell_type": "code",
   "execution_count": 1,
   "metadata": {
    "collapsed": false
   },
   "outputs": [],
   "source": [
    "from __future__      import division\n",
    "from IPython.display import display\n",
    "from matplotlib      import pyplot as plt\n",
    "%matplotlib inline\n",
    "\n",
    "import numpy  as np\n",
    "import pandas as pd\n",
    "import random, sys, os, re\n",
    "\n",
    "from sklearn.cross_validation import StratifiedKFold\n",
    "from sklearn.grid_search      import RandomizedSearchCV, GridSearchCV\n",
    "from sklearn.cross_validation import cross_val_predict, permutation_test_score"
   ]
  },
  {
   "cell_type": "code",
   "execution_count": 2,
   "metadata": {
    "collapsed": false
   },
   "outputs": [],
   "source": [
    "SEED   = 1091\n",
    "scale  = True \n",
    "minmax = False\n",
    "norm   = False\n",
    "nointercept = True\n",
    "engineering = False\n",
    "\n",
    "max_epochs = 100\n",
    "N_CLASSES  = 2\n",
    "\n",
    "submission_filename = \"../submissions/submission_bagged_nolearnSEED1091.csv\""
   ]
  },
  {
   "cell_type": "code",
   "execution_count": 3,
   "metadata": {
    "collapsed": true
   },
   "outputs": [],
   "source": [
    "global early_stop_type\n",
    "early_stop_type = 'unset'"
   ]
  },
  {
   "cell_type": "code",
   "execution_count": 4,
   "metadata": {
    "collapsed": false
   },
   "outputs": [
    {
     "name": "stdout",
     "output_type": "stream",
     "text": [
      "ImportError: Conv2DLayer and MaxPool2DLayer used\n"
     ]
    }
   ],
   "source": [
    "import theano\n",
    "from theano import tensor as T\n",
    "\n",
    "import lasagne\n",
    "from lasagne                import layers, nonlinearities\n",
    "from lasagne.nonlinearities import rectify, softmax, sigmoid\n",
    "from lasagne.updates        import nesterov_momentum, adam, adagrad, rmsprop\n",
    "from lasagne.layers         import InputLayer, DenseLayer, DropoutLayer\n",
    "from lasagne.layers         import get_all_params\n",
    "\n",
    "try:\n",
    "    from lasagne.layers.cuda_covnet import Conv2DCCLayer    as Conv2DLayer\n",
    "    from lasagne.layers.cuda_covnet import MaxPool2DCCLayer as MaxPool2DLayer\n",
    "    from lasagne.layers             import Pool2DLayer\n",
    "    print(\"Conv2DCCLayer and MaxPool2DCCLayer used\")\n",
    "    DCC = True\n",
    "except ImportError:\n",
    "    print(\"ImportError: Conv2DLayer and MaxPool2DLayer used\")\n",
    "    DCC = False\n",
    "    Conv2DLayer    = lasagne.layers.Conv2DLayer\n",
    "    MaxPool2DLayer = lasagne.layers.MaxPool2DLayer\n",
    "    Pool2DLayer    = lasagne.layers.Pool2DLayer"
   ]
  },
  {
   "cell_type": "code",
   "execution_count": 5,
   "metadata": {
    "collapsed": false
   },
   "outputs": [],
   "source": [
    "from nolearn.lasagne           import NeuralNet, TrainSplit, BatchIterator\n",
    "from nolearn.lasagne           import objective\n",
    "from nolearn.lasagne           import PrintLayerInfo\n",
    "\n",
    "from nolearn.lasagne.visualize import plot_loss\n",
    "from nolearn.lasagne.visualize import plot_conv_weights\n",
    "from nolearn.lasagne.visualize import plot_conv_activity\n",
    "from nolearn.lasagne.visualize import plot_occlusion"
   ]
  },
  {
   "cell_type": "code",
   "execution_count": 6,
   "metadata": {
    "collapsed": false
   },
   "outputs": [
    {
     "name": "stdout",
     "output_type": "stream",
     "text": [
      "cpu\n"
     ]
    }
   ],
   "source": [
    "print theano.config.device"
   ]
  },
  {
   "cell_type": "markdown",
   "metadata": {},
   "source": [
    "# Load the training data"
   ]
  },
  {
   "cell_type": "code",
   "execution_count": 7,
   "metadata": {
    "collapsed": false
   },
   "outputs": [],
   "source": [
    "from load_blood_data import load_blood_data\n",
    "\n",
    "y_train, X_train = load_blood_data(train=True, SEED   = SEED, \n",
    "                                               scale  = scale,\n",
    "                                               minmax = minmax,\n",
    "                                               norm   = norm,\n",
    "                                               nointercept = nointercept,\n",
    "                                               engineering = engineering)"
   ]
  },
  {
   "cell_type": "markdown",
   "metadata": {},
   "source": [
    "# Fit the model"
   ]
  },
  {
   "cell_type": "code",
   "execution_count": 8,
   "metadata": {
    "collapsed": true
   },
   "outputs": [],
   "source": [
    "StatifiedCV = StratifiedKFold(y            = y_train, \n",
    "                              n_folds      = 10, \n",
    "                              shuffle      = True, \n",
    "                              random_state = SEED)"
   ]
  },
  {
   "cell_type": "code",
   "execution_count": 9,
   "metadata": {
    "collapsed": false
   },
   "outputs": [],
   "source": [
    "\"\"\"\n",
    "[Using convolutional neural nets to detect facial keypoints; Daniel Nouri]\n",
    "\"\"\"\n",
    "\n",
    "def float32(k):\n",
    "    \"\"\"\n",
    "    Cast a variable for inclusion in a theano.shared variable\n",
    "    for subsequent use by AdjustVariable\n",
    "    \"\"\"\n",
    "    return np.cast['float32'](k)\n",
    "\n",
    "class AdjustVariable(object):\n",
    "    \"\"\"\n",
    "    Change the 'name' parameter each epoch\n",
    "    on a linspace(start, stop) schedule\n",
    "    \"\"\"\n",
    "    def __init__(self, name, start=0.03, stop=0.001):\n",
    "        self.name = name\n",
    "        self.start, self.stop = start, stop\n",
    "        self.ls = None\n",
    "\n",
    "    def __call__(self, nn, train_history):\n",
    "        if self.ls is None:\n",
    "            self.ls = np.linspace(self.start, self.stop, nn.max_epochs)\n",
    "\n",
    "        epoch = train_history[-1]['epoch']\n",
    "        new_value = float32(self.ls[epoch - 1])\n",
    "        getattr(nn, self.name).set_value(new_value)\n",
    "        \n",
    "class EarlyStopping_loss(object):\n",
    "    \"\"\"\n",
    "    Stop the training process if the validation loss has not declined\n",
    "    for 'patience' epochs\n",
    "    The model returned has the weights from the epoch with the lowest validation loss.\n",
    "    \"\"\"\n",
    "    def __init__(self, patience=100):\n",
    "        self.patience         = patience\n",
    "        self.best_valid       = np.inf\n",
    "        self.best_valid_epoch = 0\n",
    "        self.best_weights     = None\n",
    "        global early_stop_type\n",
    "        early_stop_type = 'loss'\n",
    "        \n",
    "\n",
    "    def __call__(self, nn, train_history):\n",
    "        current_valid = train_history[-1]['valid_loss']\n",
    "        current_epoch = train_history[-1]['epoch']\n",
    "        if current_valid < self.best_valid:\n",
    "            self.best_valid = current_valid\n",
    "            self.best_valid_epoch = current_epoch\n",
    "            self.best_weights = nn.get_all_params_values()\n",
    "        elif self.best_valid_epoch + self.patience < current_epoch:\n",
    "            print(\"\\nEarly stopping.\")\n",
    "            print(\"Best valid loss was {:.6f} at epoch {}.\\n\".format(\n",
    "                self.best_valid, self.best_valid_epoch))\n",
    "            nn.load_params_from(self.best_weights)\n",
    "            raise StopIteration()\n",
    "            \n",
    "class EarlyStopping_acc(object):\n",
    "    \"\"\"\n",
    "    Stop the training process if the validation accuracy has not increased\n",
    "    for 'patience' epochs\n",
    "    The model returned has the weights from the epoch with the highest validation accuracy.\n",
    "    \"\"\"\n",
    "    def __init__(self, patience=100):\n",
    "        self.patience         = patience\n",
    "        self.best_valid_acc   = 0\n",
    "        self.best_valid_epoch = 0\n",
    "        self.best_weights     = None\n",
    "        global early_stop_type\n",
    "        early_stop_type = 'acc'\n",
    "        \n",
    "\n",
    "    def __call__(self, nn, train_history):\n",
    "        global early_stop\n",
    "        current_valid_acc = train_history[-1]['valid_accuracy']\n",
    "        current_epoch     = train_history[-1]['epoch']\n",
    "        if current_valid_acc > self.best_valid_acc:\n",
    "            self.best_valid_acc   = current_valid_acc\n",
    "            self.best_valid_epoch = current_epoch\n",
    "            self.best_weights     = nn.get_all_params_values()\n",
    "        elif self.best_valid_epoch + self.patience < current_epoch:\n",
    "            print(\"\\nEarly stopping.\")\n",
    "            print(\"Best valid accuracy was {:.6f} at epoch {}.\\n\".format(\n",
    "                self.best_valid_acc, self.best_valid_epoch))\n",
    "            nn.load_params_from(self.best_weights)\n",
    "            raise StopIteration()\n",
    "            \n",
    "def elastic_net(layers, lambdaL1=0., lambdaL2=0., *args, **kwargs):\n",
    "    losses = objective(layers, *args, **kwargs)\n",
    "    # get the layers' weights, but not the biases\n",
    "    weights = get_all_params(layers[-1], regularizable=True)\n",
    "    # sum of absolute weights for L1\n",
    "    sum_abs_weights = sum([abs(w).sum() for w in weights])\n",
    "    # sum of squared weights for L2\n",
    "    sum_squared_weights = sum([(w ** 2).sum() for w in weights])\n",
    "    # add weights to regular loss\n",
    "    losses += lambdaL1 * sum_abs_weights + lambdaL2 * sum_squared_weights\n",
    "    return losses\n",
    "\n",
    "class FlipBatchIterator(BatchIterator):\n",
    "\n",
    "    def transform(self, Xb, yb):\n",
    "        Xb, yb = super(FlipBatchIterator, self).transform(Xb, yb)\n",
    "\n",
    "        # Flip half of the images in this batch at random:\n",
    "        bs = Xb.shape[0]\n",
    "        indices = np.random.choice(bs, bs / 2, replace=False)\n",
    "        Xb[indices] = Xb[indices, :, :, ::-1]\n",
    "\n",
    "        return Xb, yb"
   ]
  },
  {
   "cell_type": "code",
   "execution_count": 10,
   "metadata": {
    "collapsed": false
   },
   "outputs": [],
   "source": [
    "\"\"\"\n",
    "[Understanding the difficulty of training deep feedforward neural networks; Xavier Glorot, Yoshua Bengio]\n",
    "\"\"\"\n",
    "\n",
    "def xavierReLU(fan_in,fan_out):\n",
    "    \"\"\"\n",
    "    Xavier Glorot and Yohua Bengio recommended weight initialization\n",
    "    for layers using a ReLU activation function\n",
    "    \n",
    "    W ~ U[ +/- sqrt(6 / (fan_in + fan_out)) ]\n",
    "    \"\"\"\n",
    "    import numpy as np\n",
    "    return np.sqrt(6. / (fan_in + fan_out))\n",
    "\n",
    "def xavierTanH(fan_in,fan_out):\n",
    "    \"\"\"\n",
    "    Xavier Glorot and Yohua Bengio recommended weight initialization\n",
    "    for layers using a tanh activation function\n",
    "    \n",
    "    W ~ U[ +/- 4 * sqrt(6 / (fan_in + fan_out)) ]\n",
    "    \"\"\"\n",
    "    import numpy as np\n",
    "    return 4. * np.sqrt(6. / (fan_in + fan_out))"
   ]
  },
  {
   "cell_type": "code",
   "execution_count": 11,
   "metadata": {
    "collapsed": true
   },
   "outputs": [],
   "source": [
    "\"\"\"\n",
    "[\"Bagging Predictors\" Department of Statistics UC Berkeley 1994; Leo Breiman]\n",
    "\"\"\"\n",
    "\n",
    "class BaggedNolearn(object):\n",
    "    \"\"\"\n",
    "    Runs the nolearn base estimator 'n_estimators' times, fitting with\n",
    "    the X_train indices drawn from a random sample of size X_train.shape[0] \n",
    "    with replacement\n",
    "    \n",
    "    Usage\n",
    "    -----\n",
    "    clf = BaggedNolearn(base_estimator, n_estimators)\n",
    "    \n",
    "        base_estimator is an instance of a nolearn object\n",
    "        n_estimators   is the number of bagged replicas to use\n",
    "        \n",
    "    clf.fit(X_train, y_train)\n",
    "    \n",
    "        a no-op; merely stores X_train and y_train for use in the\n",
    "        predict and predict_proba methods\n",
    "        \n",
    "    clf.predict(X_test)\n",
    "    \n",
    "        the value returned is the majority vote of each of the\n",
    "        fitted base_estimators' class predictions\n",
    "        \n",
    "    clf.predict_proba(X_test)\n",
    "    \n",
    "        the value returned is the average of each of the\n",
    "        fitted base_estimators' probabilities\n",
    "    \"\"\"\n",
    "    def __init__(self, base_estimator, n_estimators=11):\n",
    "        from copy import copy, deepcopy\n",
    "        self.n_estimators   = n_estimators\n",
    "        \n",
    "        # Daniel Nouri didn't give me a __copy__ method\n",
    "        # ---------------------------------------------\n",
    "        # see \n",
    "        # http://stackoverflow.com/questions/1500718/ \\\n",
    "        # what-is-the-right-way-to-override-the-copy-deepcopy-operations-on-an-object-in-p\n",
    "        def shallow_copy(self):\n",
    "            cls = self.__class__\n",
    "            result = cls.__new__(cls)\n",
    "            result.__dict__.update(self.__dict__)\n",
    "            return result\n",
    "\n",
    "        def deep_copy(self, memo):\n",
    "            cls = self.__class__\n",
    "            result = cls.__new__(cls)\n",
    "            memo[id(self)] = result\n",
    "            for k, v in self.__dict__.items():\n",
    "                setattr(result, k, deepcopy(v, memo))  \n",
    "            return result\n",
    "\n",
    "        base_estimator.__copy__     = shallow_copy\n",
    "        base_estimator.__deepcopy__ = deep_copy\n",
    "        \n",
    "        self.base_estimator = base_estimator\n",
    "\n",
    "        \n",
    "    def fit(self, X_train, y_train):\n",
    "        \"\"\"\n",
    "        The actual fitting is done in the predict & predict_proba methods\n",
    "        \"\"\"\n",
    "        self.X_train = X_train\n",
    "        self.y_train = y_train\n",
    "        \n",
    "            \n",
    "    def predict(self, X_test):\n",
    "        \"\"\"\n",
    "        Return the majority vote of 'n_estimators' fits\n",
    "        \"\"\"\n",
    "        from copy import copy, deepcopy\n",
    "        predictions = []\n",
    "        for i in range(self.n_estimators):\n",
    "            clf = copy(self.base_estimator)\n",
    "            # this is required since it isn't reset by the copy operation\n",
    "            clf.train_history_ = []\n",
    "            idx = np.random.choice(a    = range(self.X_train.shape[0]), \n",
    "                                   size = self.X_train.shape[0], \n",
    "                                   replace=True, p=None)\n",
    "\n",
    "            clf.fit(self.X_train[idx,:], self.y_train[idx],epochs = max_epochs)\n",
    "            predictions.append(clf.predict(X_test))\n",
    "            \n",
    "        from scipy.stats import mode\n",
    "        \n",
    "        return mode(predictions)[0][0]\n",
    "    \n",
    "    def predict_proba(self, X_test):\n",
    "        \"\"\"\n",
    "        Return the average probability matrix of 'n_estimators' fits\n",
    "        \"\"\"\n",
    "        competed_bags = 0\n",
    "        from copy import copy, deepcopy\n",
    "        predictions = np.empty((X_test.shape[0], N_CLASSES), dtype=np.float32)\n",
    "        for i in range(self.n_estimators):\n",
    "            clf = copy(self.base_estimator)\n",
    "            # this is required since it isn't reset by the copy operation\n",
    "            clf.train_history_ = []\n",
    "            idx = np.random.choice(a    = range(self.X_train.shape[0]), \n",
    "                                   size = self.X_train.shape[0], \n",
    "                                   replace=True, p=None)\n",
    "            \n",
    "            clf.fit(self.X_train[idx,:], self.y_train[idx],epochs = max_epochs)\n",
    "            predictions += clf.predict_proba(X_test)\n",
    "            competed_bags += 1\n",
    "            \n",
    "        return predictions / float(competed_bags)"
   ]
  },
  {
   "cell_type": "code",
   "execution_count": 12,
   "metadata": {
    "collapsed": false,
    "scrolled": false
   },
   "outputs": [
    {
     "name": "stdout",
     "output_type": "stream",
     "text": [
      "CPU times: user 0 ns, sys: 0 ns, total: 0 ns\n",
      "Wall time: 1.17 ms\n"
     ]
    }
   ],
   "source": [
    "%%time\n",
    "\"\"\"\n",
    "[Neural Networks and Deep Learning; Michael Nielsen ]\n",
    "\"\"\"\n",
    "\n",
    "random.seed(SEED)\n",
    "\n",
    "# ----------------------------------- base estimator -------------------------------\n",
    "clf_layers=[\n",
    "            ('input',    InputLayer),\n",
    "    \n",
    "    \n",
    "#             ('dropout1', DropoutLayer),\n",
    "            ('dense1',   DenseLayer),\n",
    "    \n",
    "#             ('dropout2', DropoutLayer),\n",
    "#             ('dense2',   DenseLayer),\n",
    "    \n",
    "\n",
    "            ('output',   DenseLayer),\n",
    "            ]\n",
    "\n",
    "\n",
    "\n",
    "base = NeuralNet(\n",
    "    \n",
    "    layers=clf_layers,\n",
    "    \n",
    "    regression=False,\n",
    "    \n",
    "    # --------------------------------------------------------------------------\n",
    "    \n",
    "    input_shape=(None, X_train.shape[1]), \n",
    "    \n",
    "    # Fully Connected\n",
    "    # ===============\n",
    "#     dropout1_p=0.20,\n",
    "    \n",
    "    dense1_num_units    = 500,\n",
    "    dense1_nonlinearity = lasagne.nonlinearities.LeakyRectify(leakiness=1./3.),\n",
    "    dense1_W = lasagne.init.Uniform(range = xavierReLU(X_train.shape[1], 500)),\n",
    "    dense1_b = lasagne.init.Constant(1.),\n",
    "    \n",
    "#     dropout2_p=0.02,\n",
    "    \n",
    "#     dense2_num_units    = 10,\n",
    "#     dense2_nonlinearity = lasagne.nonlinearities.LeakyRectify(leakiness=1./3.),\n",
    "#     dense2_W = lasagne.init.Uniform(range = xavierReLU(500, 10)),\n",
    "#     dense2_b = lasagne.init.Constant(1.),\n",
    "    \n",
    "\n",
    "    # Output\n",
    "    # ======\n",
    "    output_num_units    = N_CLASSES, \n",
    "    output_nonlinearity = nonlinearities.softmax,\n",
    "    output_W = lasagne.init.Normal(std=1./np.sqrt(500 + N_CLASSES), mean=0.0),\n",
    "    output_b = lasagne.init.Constant(1.),\n",
    "    \n",
    "    # --------------------------------------------------------------------------\n",
    "    \n",
    "    # Loss Function\n",
    "    # =============\n",
    "    objective_loss_function = lasagne.objectives.categorical_crossentropy,\n",
    "    \n",
    "    # L1 & L2 Regularization\n",
    "    # ======================\n",
    "    objective          = elastic_net,\n",
    "    objective_lambdaL1 = 0.0000,\n",
    "    objective_lambdaL2 = 0.0000,\n",
    "    \n",
    "    # Update Function\n",
    "    # ===============\n",
    "    update               = lasagne.updates.momentum,\n",
    "    update_learning_rate = theano.shared(float32(0.003)),\n",
    "    update_momentum      = theano.shared(float32(0.9)),\n",
    "    \n",
    "    # Early Stopping\n",
    "    # ==============\n",
    "    on_epoch_finished=[\n",
    "        AdjustVariable('update_learning_rate', start=0.003,  stop=0.0003),\n",
    "        AdjustVariable('update_momentum',      start=0.9,    stop=0.99),\n",
    "        \n",
    "        EarlyStopping_loss(patience = 50)\n",
    "        ],\n",
    "    \n",
    "    \n",
    "    # Mini-Batch Size\n",
    "    # ===============\n",
    "    batch_iterator_train = BatchIterator(batch_size=1), \n",
    "    batch_iterator_test  = BatchIterator(batch_size=1),\n",
    "\n",
    "    # Max Epochs\n",
    "    # ==========\n",
    "    max_epochs = max_epochs,\n",
    "    \n",
    "    verbose=0,\n",
    "    train_split=TrainSplit(0.2, stratify=True)\n",
    "    )\n",
    "\n",
    "# ----------------------------------- BaggedNolearn -------------------------------\n",
    "clf = BaggedNolearn(base_estimator = base, \n",
    "                    n_estimators   = 11)\n",
    "\n"
   ]
  },
  {
   "cell_type": "code",
   "execution_count": 13,
   "metadata": {
    "collapsed": false,
    "scrolled": false
   },
   "outputs": [],
   "source": [
    "clf.fit(X_train.values.astype(np.float32)[range(X_train.shape[0]),:], y_train)"
   ]
  },
  {
   "cell_type": "markdown",
   "metadata": {},
   "source": [
    "# Training set predictions"
   ]
  },
  {
   "cell_type": "code",
   "execution_count": 14,
   "metadata": {
    "collapsed": false
   },
   "outputs": [
    {
     "name": "stdout",
     "output_type": "stream",
     "text": [
      "CPU times: user 1min 17s, sys: 140 ms, total: 1min 17s\n",
      "Wall time: 1min 17s\n"
     ]
    }
   ],
   "source": [
    "%%time\n",
    "\n",
    "predicted_values = clf.predict(X_train.values.astype(np.float32))\n",
    "y_true, y_pred   = y_train, predicted_values\n",
    "\n",
    "predicted_probs  = clf.predict_proba(X_train.values.astype(np.float32))\n",
    "donate_probs     = [prob[1] for prob in predicted_probs]\n"
   ]
  },
  {
   "cell_type": "code",
   "execution_count": 15,
   "metadata": {
    "collapsed": false
   },
   "outputs": [
    {
     "name": "stdout",
     "output_type": "stream",
     "text": [
      "[0 0 0 1 1 0 1 0 0 0]\n",
      "[[ 0.74874151  0.25125855]\n",
      " [ 0.92206496  0.07793499]\n",
      " [ 0.68541878  0.31458119]\n",
      " [ 0.42154506  0.57845491]\n",
      " [ 0.45503062  0.54496938]\n",
      " [ 0.78299659  0.21700343]\n",
      " [ 0.43890858  0.56109142]\n",
      " [ 0.79450411  0.20549589]\n",
      " [ 0.86417872  0.13582134]\n",
      " [ 0.77164102  0.22835892]]\n",
      "1.0 1.0 1.0 1.0 1.0 1.0 1.0 1.0 1.0 1.0\n",
      "[0.25125855, 0.077934988, 0.31458119, 0.57845491, 0.54496938, 0.21700343, 0.56109142, 0.20549589, 0.13582134, 0.22835892]\n"
     ]
    }
   ],
   "source": [
    "print(y_pred[:10])\n",
    "print(predicted_probs[:10])\n",
    "for i in range(10):\n",
    "    a,b = predicted_probs[i]\n",
    "    print a+b,\n",
    "print\n",
    "print(donate_probs[:10])"
   ]
  },
  {
   "cell_type": "code",
   "execution_count": 16,
   "metadata": {
    "collapsed": false
   },
   "outputs": [
    {
     "name": "stdout",
     "output_type": "stream",
     "text": [
      "[[412  26]\n",
      " [ 89  49]]\n"
     ]
    },
    {
     "data": {
      "image/png": "[encoded data removed]",
      "text/plain": [
       "<matplotlib.figure.Figure at 0x7efcfbe22150>"
      ]
     },
     "metadata": {},
     "output_type": "display_data"
    },
    {
     "name": "stdout",
     "output_type": "stream",
     "text": [
      "Accuracy 0.8003, mis-class rate 0.1997\n"
     ]
    }
   ],
   "source": [
    "from sklearn.metrics import confusion_matrix\n",
    "cm = confusion_matrix(y_true, y_pred, labels=None)\n",
    "print cm\n",
    "\n",
    "try:\n",
    "    from sklearn_utilities import plot_confusion_matrix\n",
    "except:\n",
    "    import imp, os\n",
    "    util = imp.load_source('sklearn_utilities', os.path.expanduser('~/Dropbox/Python/sklearn_utilities.py'))\n",
    "    from sklearn_utilities import plot_confusion_matrix\n",
    "\n",
    "\n",
    "plot_confusion_matrix(cm, ['Did not Donate','Donated'])\n",
    "\n",
    "accuracy = round(np.trace(cm)/float(np.sum(cm)),4)\n",
    "misclass = 1 - accuracy\n",
    "print(\"Accuracy {}, mis-class rate {}\".format(accuracy,misclass))"
   ]
  },
  {
   "cell_type": "code",
   "execution_count": 17,
   "metadata": {
    "collapsed": false
   },
   "outputs": [
    {
     "data": {
      "image/png": "[encoded data removed]",
      "text/plain": [
       "<matplotlib.figure.Figure at 0x7efcf0406e10>"
      ]
     },
     "metadata": {},
     "output_type": "display_data"
    }
   ],
   "source": [
    "from sklearn.metrics import roc_curve\n",
    "from sklearn.metrics import roc_auc_score\n",
    "from sklearn.metrics import log_loss\n",
    "from sklearn.metrics import f1_score\n",
    "\n",
    "fpr, tpr, thresholds = roc_curve(y_true, y_pred, pos_label=None)\n",
    "\n",
    "\n",
    "plt.figure(figsize=(10,6))\n",
    "plt.plot([0, 1], [0, 1], 'k--')\n",
    "plt.plot(fpr, tpr)\n",
    "\n",
    "AUC = roc_auc_score(y_true, y_pred, average='macro')\n",
    "plt.text(x=0.6,y=0.4,s=\"AUC         {:.4f}\"\\\n",
    "         .format(AUC),\n",
    "        fontsize=16)\n",
    "\n",
    "plt.text(x=0.6,y=0.3,s=\"accuracy {:.2f}%\"\\\n",
    "         .format(accuracy*100),\n",
    "        fontsize=16)\n",
    "\n",
    "logloss = log_loss(y_true, y_pred)\n",
    "plt.text(x=0.6,y=0.2,s=\"LogLoss   {:.4f}\"\\\n",
    "         .format(logloss),\n",
    "        fontsize=16)\n",
    "\n",
    "f1 = f1_score(y_true, y_pred)\n",
    "plt.text(x=0.6,y=0.1,s=\"f1             {:.4f}\"\\\n",
    "         .format(f1),\n",
    "        fontsize=16)\n",
    "\n",
    "plt.xlabel('False positive rate')\n",
    "plt.ylabel('True positive rate')\n",
    "plt.title('ROC curve')\n",
    "plt.show()"
   ]
  },
  {
   "cell_type": "code",
   "execution_count": 18,
   "metadata": {
    "collapsed": false
   },
   "outputs": [
    {
     "name": "stdout",
     "output_type": "stream",
     "text": [
      "bagged_nolearnSEED1091     ,        ,   0.8003 ,  6.8958 , 0.6479 , 0.4601 ,  , \n"
     ]
    }
   ],
   "source": [
    "# format for scores.csv file\n",
    "import re\n",
    "algo = re.search(r\"submission_(.*?)\\.csv\", submission_filename).group(1)\n",
    "print(\"{: <26} ,        ,   {:.4f} ,  {:.4f} , {:.4f} , {:.4f} ,  , \"\\\n",
    "      .format(algo,accuracy,logloss,AUC,f1))"
   ]
  },
  {
   "cell_type": "markdown",
   "metadata": {},
   "source": [
    "#### confirm that *sklearn.metrics.log_loss* conforms to the contest formula"
   ]
  },
  {
   "cell_type": "code",
   "execution_count": 19,
   "metadata": {
    "collapsed": false
   },
   "outputs": [
    {
     "data": {
      "text/plain": [
       "6.8958"
      ]
     },
     "execution_count": 19,
     "metadata": {},
     "output_type": "execute_result"
    }
   ],
   "source": [
    "def log_loss(y_true, y_pred):\n",
    "    \"\"\"\n",
    "    logloss formula\n",
    "    \"\"\"\n",
    "    import scipy\n",
    "    import math\n",
    "    \n",
    "    assert len(y_true)==len(y_pred)\n",
    "    \n",
    "    n     = len(y_true)\n",
    "    comps = []\n",
    "    \n",
    "    # prevent log(0/1): y_pred \\in [epsilon, 0.999]\n",
    "    epsilon = 1e-15\n",
    "    y_pred = scipy.maximum(epsilon, y_pred)\n",
    "    y_pred = scipy.minimum(1-epsilon, y_pred)\n",
    "    \n",
    "    for i in range(n):\n",
    "        comp1 =    y_true[i]    * math.log(  y_pred[i],     math.e)\n",
    "        comp2 = (1 - y_true[i]) * math.log((1 - y_pred[i]), math.e)\n",
    "        comps.append(comp1+comp2)\n",
    "    \n",
    "    return round(-sum(comps)/float(n),4)\n",
    "\n",
    "log_loss(y_true,y_pred)"
   ]
  },
  {
   "cell_type": "markdown",
   "metadata": {},
   "source": [
    "# --------------------------------------------------------------------------------------------"
   ]
  },
  {
   "cell_type": "markdown",
   "metadata": {
    "collapsed": true
   },
   "source": [
    "# Test Set Predictions"
   ]
  },
  {
   "cell_type": "markdown",
   "metadata": {},
   "source": [
    "## Re-fit with the full training set"
   ]
  },
  {
   "cell_type": "code",
   "execution_count": 20,
   "metadata": {
    "collapsed": false
   },
   "outputs": [],
   "source": [
    "# clf.fit(X_train.values.astype(np.float32)[range(X_train.shape[0]),:], y_train)"
   ]
  },
  {
   "cell_type": "markdown",
   "metadata": {},
   "source": [
    "## Read the test data"
   ]
  },
  {
   "cell_type": "code",
   "execution_count": 21,
   "metadata": {
    "collapsed": false
   },
   "outputs": [],
   "source": [
    "from load_blood_data import load_blood_data\n",
    "\n",
    "X_test, IDs = load_blood_data(train=False, SEED   = SEED, \n",
    "                                           scale  = scale,\n",
    "                                           minmax = minmax,\n",
    "                                           norm   = norm,\n",
    "                                           nointercept = nointercept,\n",
    "                                           engineering = engineering)"
   ]
  },
  {
   "cell_type": "markdown",
   "metadata": {},
   "source": [
    "# Predict the test set with the fitted model"
   ]
  },
  {
   "cell_type": "code",
   "execution_count": 22,
   "metadata": {
    "collapsed": false
   },
   "outputs": [
    {
     "name": "stdout",
     "output_type": "stream",
     "text": [
      "\n",
      "Early stopping.\n",
      "Best valid loss was 0.356069 at epoch 5.\n",
      "\n",
      "\n",
      "Early stopping.\n",
      "Best valid loss was 0.356069 at epoch 5.\n",
      "\n"
     ]
    }
   ],
   "source": [
    "y_pred        = clf.predict(X_test.values.astype(np.float32))\n",
    "y_pred_probs  = clf.predict_proba(X_test.values.astype(np.float32))\n",
    "donate_probs  = [prob[1] for prob in y_pred_probs]\n",
    "\n"
   ]
  },
  {
   "cell_type": "code",
   "execution_count": 23,
   "metadata": {
    "collapsed": false
   },
   "outputs": [
    {
     "name": "stdout",
     "output_type": "stream",
     "text": [
      "[0 0 0 0 1 1 0 0 0 0]\n",
      "[[ 0.46867129  0.5313288 ]\n",
      " [ 0.89952683  0.10047319]\n",
      " [ 0.78125536  0.21874465]\n",
      " [ 0.69834393  0.30165613]\n",
      " [ 0.38270131  0.61729872]\n",
      " [ 0.24454579  0.75545412]\n",
      " [ 0.71210158  0.28789848]\n",
      " [ 0.89409262  0.10590737]\n",
      " [ 0.98916507  0.01083487]\n",
      " [ 0.93410969  0.06589027]]\n",
      "1.0 1.0 1.0 1.0 1.0 1.0 1.0 1.0 1.0 1.0\n",
      "[0.5313288, 0.10047319, 0.21874465, 0.30165613, 0.61729872, 0.75545412, 0.28789848, 0.10590737, 0.010834872, 0.065890275]\n"
     ]
    }
   ],
   "source": [
    "print(y_pred[:10])\n",
    "print(y_pred_probs[:10])\n",
    "for i in range(10):\n",
    "    a,b = y_pred_probs[i]\n",
    "    print a+b,\n",
    "print\n",
    "print(donate_probs[:10])"
   ]
  },
  {
   "cell_type": "markdown",
   "metadata": {},
   "source": [
    "# Create the submission file"
   ]
  },
  {
   "cell_type": "code",
   "execution_count": 24,
   "metadata": {
    "collapsed": false
   },
   "outputs": [],
   "source": [
    "assert len(IDs)==len(donate_probs)\n",
    "\n",
    "f = open(submission_filename, \"w\")\n",
    "\n",
    "f.write(\",Made Donation in March 2007\\n\")\n",
    "for ID, prob in zip(IDs, donate_probs):\n",
    "    f.write(\"{},{}\\n\".format(ID,prob))\n",
    "    \n",
    "f.close()"
   ]
  },
  {
   "cell_type": "code",
   "execution_count": null,
   "metadata": {
    "collapsed": true
   },
   "outputs": [],
   "source": []
  }
 ],
 "metadata": {
  "kernelspec": {
   "display_name": "Python 2",
   "language": "python",
   "name": "python2"
  },
  "language_info": {
   "codemirror_mode": {
    "name": "ipython",
    "version": 2
   },
   "file_extension": ".py",
   "mimetype": "text/x-python",
   "name": "python",
   "nbconvert_exporter": "python",
   "pygments_lexer": "ipython2",
   "version": "2.7.10"
  }
 },
 "nbformat": 4,
 "nbformat_minor": 0
}
