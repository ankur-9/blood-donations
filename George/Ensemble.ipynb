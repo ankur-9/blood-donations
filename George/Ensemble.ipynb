{
 "cells": [
  {
   "cell_type": "markdown",
   "metadata": {},
   "source": [
    "# Ensemble"
   ]
  },
  {
   "cell_type": "code",
   "execution_count": 1,
   "metadata": {
    "collapsed": true
   },
   "outputs": [],
   "source": [
    "from __future__      import division\n",
    "from IPython.display import display\n",
    "from matplotlib      import pyplot as plt\n",
    "%matplotlib inline\n",
    "\n",
    "import numpy  as np\n",
    "import pandas as pd\n",
    "import random, sys, os, re"
   ]
  },
  {
   "cell_type": "markdown",
   "metadata": {},
   "source": [
    "# The test set has duplicates so we get the list of IDs in the sample file in order"
   ]
  },
  {
   "cell_type": "code",
   "execution_count": 2,
   "metadata": {
    "collapsed": true
   },
   "outputs": [],
   "source": [
    "id_list = []\n",
    "with open('../submissions/Submission_Format.csv', 'r') as f:\n",
    "    lines = f.read().splitlines()\n",
    "    for line in lines:\n",
    "        ID,prob = line.split(',')\n",
    "        if ID == '': continue\n",
    "        id_list.append(ID)"
   ]
  },
  {
   "cell_type": "code",
   "execution_count": 3,
   "metadata": {
    "collapsed": true
   },
   "outputs": [],
   "source": [
    "def get_filepaths(directory):\n",
    "    \"\"\"\n",
    "    This function will generate the file names in a directory \n",
    "    tree by walking the tree either top-down or bottom-up. For each \n",
    "    directory in the tree rooted at directory top (including top itself), \n",
    "    it yields a 3-tuple list (dirpath, dirnames, filenames).\n",
    "    \"\"\"\n",
    "    import os\n",
    "    \n",
    "    file_paths = []  # List which will store all of the full filepaths.\n",
    "\n",
    "    # Walk the tree.\n",
    "    for root, directories, files in os.walk(directory):\n",
    "        for filename in files:\n",
    "            # Join the two strings in order to form the full filepath.\n",
    "            filepath = os.path.join(root, filename)\n",
    "            file_paths.append(filepath)  # Add it to the list.\n",
    "\n",
    "    return file_paths "
   ]
  },
  {
   "cell_type": "markdown",
   "metadata": {},
   "source": [
    "# Get the list of submission files \n",
    "\n",
    "* ## remove the example file \n",
    "* ## and all ensembles"
   ]
  },
  {
   "cell_type": "markdown",
   "metadata": {},
   "source": [
    "### BEFORE"
   ]
  },
  {
   "cell_type": "code",
   "execution_count": 4,
   "metadata": {
    "collapsed": false
   },
   "outputs": [
    {
     "data": {
      "text/plain": [
       "['../submissions/submission_0.4457_LogisticRegressionCV.csv',\n",
       " '../submissions/submission_voting_ensemble_hardWgtd.csv',\n",
       " '../submissions/submission_0.4465_bagged_scikit_nn.csv',\n",
       " '../submissions/submission_0.5203_EnsembleOfAveragesLeastCorr.csv',\n",
       " '../submissions/submission_0.5974_boosted_logit_lbfgs.csv',\n",
       " '../submissions/submission_0.5670_SGDClassifier.csv',\n",
       " '../submissions/submission_1.7907_RandomForestClassifier.csv',\n",
       " '../submissions/submission_0.4808_EnsembleOfAveragesALL.csv',\n",
       " '../submissions/submission_0.4527_bagged_gbc.csv',\n",
       " '../submissions/submission_0.4442_bagged_logit.csv',\n",
       " '../submissions/submission_0.6891_boosted_logit_sag.csv',\n",
       " '../submissions/Submission_Format.csv',\n",
       " '../submissions/submission_0.4370_EnsembleOfAveragesBEST_SEED.csv',\n",
       " '../submissions/submission_0.4885_BaggingClassifier.csv',\n",
       " '../submissions/submission_0.4834_blending_ensemble.csv',\n",
       " '../submissions/submission_0.4566_nolearn.csv',\n",
       " '../submissions/submission_voting_ensemble_hard.csv',\n",
       " '../submissions/submission_0.4415_voting_ensemble_soft.csv',\n",
       " '../submissions/submission_0.4396_voting_ensemble_softWgtd.csv',\n",
       " '../submissions/submission_bagged_nolearnSEED0.csv',\n",
       " '../submissions/submission_0.4851_XGBClassifier_vanilla.csv',\n",
       " '../submissions/submission_0.5020_scikit_nn.csv',\n",
       " '../submissions/submission_0.5334_boosted_svc.csv',\n",
       " '../submissions/submission_0.6642_AdaBoostClassifier.csv',\n",
       " '../submissions/submission_0.4411_LogisticRegression.csv',\n",
       " '../submissions/submission_0.5336_SVC.csv',\n",
       " '../submissions/submission_0.5732_cosine_similarity.csv',\n",
       " '../submissions/submission_LogisticRegressionSEED1091.csv',\n",
       " '../submissions/submission_bagged_nolearnSEED1091.csv',\n",
       " '../submissions/submission_0.4313_bagged_nolearn.csv',\n",
       " '../submissions/submission_0.4648_GradientBoostingClassifier_engineering.csv',\n",
       " '../submissions/submission_0.4608_GradientBoostingClassifier.csv',\n",
       " '../submissions/submission_0.4452_GradientBoostingClassifier_exponential.csv',\n",
       " '../submissions/submission_0.4374_EnsembleOfAveragesBEST.csv',\n",
       " '../submissions/submission_LogisticRegressionSEED0.csv',\n",
       " '../submissions/submission_0.6289_KMeans.csv',\n",
       " '../submissions/submission_0.5891_boosted_logit_newton.csv',\n",
       " '../submissions/submission_0.4729_ExtraTreesClassifier.csv',\n",
       " '../submissions/submission_1.1870_KNeighborsClassifier.csv']"
      ]
     },
     "execution_count": 4,
     "metadata": {},
     "output_type": "execute_result"
    }
   ],
   "source": [
    "file_list = get_filepaths('../submissions')\n",
    "file_list"
   ]
  },
  {
   "cell_type": "markdown",
   "metadata": {},
   "source": [
    "### AFTER"
   ]
  },
  {
   "cell_type": "code",
   "execution_count": 5,
   "metadata": {
    "collapsed": false
   },
   "outputs": [
    {
     "data": {
      "text/plain": [
       "['../submissions/submission_0.4313_bagged_nolearn.csv',\n",
       " '../submissions/submission_0.4411_LogisticRegression.csv',\n",
       " '../submissions/submission_0.4442_bagged_logit.csv',\n",
       " '../submissions/submission_0.4452_GradientBoostingClassifier_exponential.csv',\n",
       " '../submissions/submission_0.4457_LogisticRegressionCV.csv',\n",
       " '../submissions/submission_0.4465_bagged_scikit_nn.csv',\n",
       " '../submissions/submission_0.4527_bagged_gbc.csv',\n",
       " '../submissions/submission_0.4566_nolearn.csv',\n",
       " '../submissions/submission_0.4608_GradientBoostingClassifier.csv',\n",
       " '../submissions/submission_0.4648_GradientBoostingClassifier_engineering.csv',\n",
       " '../submissions/submission_0.4729_ExtraTreesClassifier.csv',\n",
       " '../submissions/submission_0.4851_XGBClassifier_vanilla.csv',\n",
       " '../submissions/submission_0.4885_BaggingClassifier.csv',\n",
       " '../submissions/submission_0.5020_scikit_nn.csv',\n",
       " '../submissions/submission_0.5334_boosted_svc.csv',\n",
       " '../submissions/submission_0.5336_SVC.csv',\n",
       " '../submissions/submission_0.5670_SGDClassifier.csv',\n",
       " '../submissions/submission_0.5732_cosine_similarity.csv',\n",
       " '../submissions/submission_0.5891_boosted_logit_newton.csv',\n",
       " '../submissions/submission_0.5974_boosted_logit_lbfgs.csv',\n",
       " '../submissions/submission_0.6289_KMeans.csv',\n",
       " '../submissions/submission_0.6642_AdaBoostClassifier.csv',\n",
       " '../submissions/submission_0.6891_boosted_logit_sag.csv',\n",
       " '../submissions/submission_1.1870_KNeighborsClassifier.csv',\n",
       " '../submissions/submission_1.7907_RandomForestClassifier.csv',\n",
       " '../submissions/submission_LogisticRegressionSEED1091.csv',\n",
       " '../submissions/submission_LogisticRegressionSEED0.csv',\n",
       " '../submissions/submission_bagged_nolearnSEED0.csv',\n",
       " '../submissions/submission_bagged_nolearnSEED1091.csv']"
      ]
     },
     "execution_count": 5,
     "metadata": {},
     "output_type": "execute_result"
    }
   ],
   "source": [
    "# why do it more than once? For some reason it doesn't work if only run once. Who knows?\n",
    "# ======================================================================================\n",
    "for i in range(3):\n",
    "    for file_name in file_list:\n",
    "        if 'Format'   in file_name: file_list.remove(file_name)\n",
    "        if 'Ensemble' in file_name: file_list.remove(file_name)\n",
    "        if 'ensemble' in file_name: file_list.remove(file_name)\n",
    "\n",
    "file_list.sort(key=lambda x: x[26:32])\n",
    "\n",
    "from copy import copy\n",
    "file_list_all = copy(file_list)\n",
    "\n",
    "file_list"
   ]
  },
  {
   "cell_type": "markdown",
   "metadata": {},
   "source": [
    "# ---------------------------------------------\n",
    "# Ensemble ALL the submissions \n",
    "# ---------------------------------------------"
   ]
  },
  {
   "cell_type": "markdown",
   "metadata": {
    "collapsed": false,
    "scrolled": true
   },
   "source": [
    "# Find the average probability for all IDs"
   ]
  },
  {
   "cell_type": "code",
   "execution_count": 6,
   "metadata": {
    "collapsed": false,
    "scrolled": false
   },
   "outputs": [
    {
     "data": {
      "text/plain": [
       "(['0.221751779318',\n",
       "  '0.308123096572',\n",
       "  '0.3080704208',\n",
       "  '0.296876234606',\n",
       "  '0.355096586523',\n",
       "  '0.241185247898',\n",
       "  '0.344323032548',\n",
       "  '0.458084821701',\n",
       "  '0.40501948695',\n",
       "  '0.360423053959',\n",
       "  '0.184227189057',\n",
       "  '0.173246413469',\n",
       "  '0.252661172161',\n",
       "  '0.260312318802',\n",
       "  '0.229568971977',\n",
       "  '0.201544480802',\n",
       "  '0.35',\n",
       "  '0.35',\n",
       "  '0.456327276011',\n",
       "  '0.462771223664',\n",
       "  '0.35',\n",
       "  '0.494101309394',\n",
       "  '0.499746555027',\n",
       "  '0.222222222222',\n",
       "  '0.1',\n",
       "  '0.308123082933',\n",
       "  '0.308123146171',\n",
       "  '0.204146146774',\n",
       "  '0.237228244543'],\n",
       " 0.30838977634075865)"
      ]
     },
     "execution_count": 6,
     "metadata": {},
     "output_type": "execute_result"
    }
   ],
   "source": [
    "from collections import defaultdict\n",
    "\n",
    "aggregates = defaultdict(list)\n",
    "averages   = defaultdict(list)\n",
    "\n",
    "\n",
    "# 1. collect the probabilities for each ID from all the submission files\n",
    "# ======================================================================\n",
    "for file_name in file_list:\n",
    "    with open(file_name, 'r') as f:\n",
    "        lines = f.read().splitlines()\n",
    "        for line in lines:\n",
    "            ID,prob = line.split(',')\n",
    "            if ID == '': continue\n",
    "            aggregates[ID].append(prob)\n",
    "            \n",
    "        \n",
    "            \n",
    "# 2. find the average of all the probabilities for each ID\n",
    "# ========================================================\n",
    "averages.update((ID, np.mean(map(float, probs))) for ID, probs in aggregates.items())\n",
    "\n",
    "aggregates['1'],averages['1']"
   ]
  },
  {
   "cell_type": "code",
   "execution_count": 7,
   "metadata": {
    "collapsed": false
   },
   "outputs": [
    {
     "data": {
      "text/plain": [
       "(172, 172)"
      ]
     },
     "execution_count": 7,
     "metadata": {},
     "output_type": "execute_result"
    }
   ],
   "source": [
    "len(aggregates),len(averages)"
   ]
  },
  {
   "cell_type": "markdown",
   "metadata": {},
   "source": [
    "# Create a submission file of the ensemble of averages"
   ]
  },
  {
   "cell_type": "code",
   "execution_count": 8,
   "metadata": {
    "collapsed": true
   },
   "outputs": [],
   "source": [
    "# f = open(\"../submissions/submission_EnsembleOfAveragesALL.csv\", \"w\")\n",
    "\n",
    "# f.write(\",Made Donation in March 2007\\n\")\n",
    "# for ID in id_list:\n",
    "#     f.write(\"{},{}\\n\".format(ID, averages[ID]))\n",
    "    \n",
    "# f.close()"
   ]
  },
  {
   "cell_type": "markdown",
   "metadata": {
    "collapsed": true
   },
   "source": [
    "# ---------------------------------------------------------------\n",
    "# Ensemble the submissions with high scores\n",
    "# ---------------------------------------------------------------"
   ]
  },
  {
   "cell_type": "markdown",
   "metadata": {},
   "source": [
    "### BEFORE"
   ]
  },
  {
   "cell_type": "code",
   "execution_count": 9,
   "metadata": {
    "collapsed": false
   },
   "outputs": [
    {
     "data": {
      "text/plain": [
       "['../submissions/submission_0.4313_bagged_nolearn.csv',\n",
       " '../submissions/submission_0.4411_LogisticRegression.csv',\n",
       " '../submissions/submission_0.4442_bagged_logit.csv',\n",
       " '../submissions/submission_0.4452_GradientBoostingClassifier_exponential.csv',\n",
       " '../submissions/submission_0.4457_LogisticRegressionCV.csv',\n",
       " '../submissions/submission_0.4465_bagged_scikit_nn.csv',\n",
       " '../submissions/submission_0.4527_bagged_gbc.csv',\n",
       " '../submissions/submission_0.4566_nolearn.csv',\n",
       " '../submissions/submission_0.4608_GradientBoostingClassifier.csv',\n",
       " '../submissions/submission_0.4648_GradientBoostingClassifier_engineering.csv',\n",
       " '../submissions/submission_0.4729_ExtraTreesClassifier.csv',\n",
       " '../submissions/submission_0.4851_XGBClassifier_vanilla.csv',\n",
       " '../submissions/submission_0.4885_BaggingClassifier.csv',\n",
       " '../submissions/submission_0.5020_scikit_nn.csv',\n",
       " '../submissions/submission_0.5334_boosted_svc.csv',\n",
       " '../submissions/submission_0.5336_SVC.csv',\n",
       " '../submissions/submission_0.5670_SGDClassifier.csv',\n",
       " '../submissions/submission_0.5732_cosine_similarity.csv',\n",
       " '../submissions/submission_0.5891_boosted_logit_newton.csv',\n",
       " '../submissions/submission_0.5974_boosted_logit_lbfgs.csv',\n",
       " '../submissions/submission_0.6289_KMeans.csv',\n",
       " '../submissions/submission_0.6642_AdaBoostClassifier.csv',\n",
       " '../submissions/submission_0.6891_boosted_logit_sag.csv',\n",
       " '../submissions/submission_1.1870_KNeighborsClassifier.csv',\n",
       " '../submissions/submission_1.7907_RandomForestClassifier.csv',\n",
       " '../submissions/submission_LogisticRegressionSEED1091.csv',\n",
       " '../submissions/submission_LogisticRegressionSEED0.csv',\n",
       " '../submissions/submission_bagged_nolearnSEED0.csv',\n",
       " '../submissions/submission_bagged_nolearnSEED1091.csv']"
      ]
     },
     "execution_count": 9,
     "metadata": {},
     "output_type": "execute_result"
    }
   ],
   "source": [
    "file_list"
   ]
  },
  {
   "cell_type": "markdown",
   "metadata": {},
   "source": [
    "### AFTER"
   ]
  },
  {
   "cell_type": "code",
   "execution_count": 11,
   "metadata": {
    "collapsed": false
   },
   "outputs": [
    {
     "data": {
      "text/plain": [
       "['../submissions/submission_0.4313_bagged_nolearn.csv',\n",
       " '../submissions/submission_LogisticRegressionSEED1091.csv',\n",
       " '../submissions/submission_LogisticRegressionSEED0.csv',\n",
       " '../submissions/submission_bagged_nolearnSEED0.csv',\n",
       " '../submissions/submission_bagged_nolearnSEED1091.csv']"
      ]
     },
     "execution_count": 11,
     "metadata": {},
     "output_type": "execute_result"
    }
   ],
   "source": [
    "# why do it more than once? For some reason it doesn't work if only run once. Who knows?\n",
    "# ======================================================================================\n",
    "for _ in range(2):\n",
    "    for _ in range(4):\n",
    "        for file_name in file_list:\n",
    "            if 'Format'   in file_name: file_list.remove(file_name)\n",
    "            if 'Ensemble' in file_name: file_list.remove(file_name)\n",
    "\n",
    "            # scores of 0.4... or 0.3... are good\n",
    "            # files with SEED... are good-scoring models that were re-run with different random seeds\n",
    "            if ('bagged_nolearn' not  in file_name):       \n",
    "                    file_list.remove(file_name)\n",
    "    \n",
    "file_list"
   ]
  },
  {
   "cell_type": "code",
   "execution_count": 12,
   "metadata": {
    "collapsed": false
   },
   "outputs": [
    {
     "data": {
      "text/plain": [
       "(['0.221751779318',\n",
       "  '0.308123082933',\n",
       "  '0.308123146171',\n",
       "  '0.204146146774',\n",
       "  '0.237228244543'],\n",
       " 0.25587447994779999)"
      ]
     },
     "execution_count": 12,
     "metadata": {},
     "output_type": "execute_result"
    }
   ],
   "source": [
    "from collections import defaultdict\n",
    "\n",
    "aggregates = defaultdict(list)\n",
    "averages   = defaultdict(list)\n",
    "\n",
    "\n",
    "# 1. collect the probabilities for each ID from all the submission files\n",
    "# ======================================================================\n",
    "for file_name in file_list:\n",
    "    with open(file_name, 'r') as f:\n",
    "        lines = f.read().splitlines()\n",
    "        for line in lines:\n",
    "            ID,prob = line.split(',')\n",
    "            if ID == '': continue\n",
    "            aggregates[ID].append(prob)\n",
    "            \n",
    "        \n",
    "            \n",
    "# 2. find the average of all the probabilities for each ID\n",
    "# ========================================================\n",
    "averages.update((ID, np.mean(map(float, probs))) for ID, probs in aggregates.items())\n",
    "\n",
    "aggregates['1'],averages['1']"
   ]
  },
  {
   "cell_type": "code",
   "execution_count": 13,
   "metadata": {
    "collapsed": false
   },
   "outputs": [
    {
     "data": {
      "text/plain": [
       "(172, 172)"
      ]
     },
     "execution_count": 13,
     "metadata": {},
     "output_type": "execute_result"
    }
   ],
   "source": [
    "len(aggregates),len(averages)"
   ]
  },
  {
   "cell_type": "code",
   "execution_count": 14,
   "metadata": {
    "collapsed": true
   },
   "outputs": [],
   "source": [
    "f = open(\"../submissions/submission_EnsembleOfAveragesBEST_SEED.csv\", \"w\")\n",
    "\n",
    "f.write(\",Made Donation in March 2007\\n\")\n",
    "for ID in id_list:\n",
    "    f.write(\"{},{}\\n\".format(ID, averages[ID]))\n",
    "    \n",
    "f.close()"
   ]
  },
  {
   "cell_type": "markdown",
   "metadata": {},
   "source": [
    "# ---------------------------------------------------------------\n",
    "# Ensemble the least-correlated submissions \n",
    "# ---------------------------------------------------------------"
   ]
  },
  {
   "cell_type": "markdown",
   "metadata": {},
   "source": [
    "# Create a dataframe with one column per submission"
   ]
  },
  {
   "cell_type": "code",
   "execution_count": 15,
   "metadata": {
    "collapsed": false
   },
   "outputs": [
    {
     "data": {
      "text/html": [
       "<div>\n",
       "<table border=\"1\" class=\"dataframe\">\n",
       "  <thead>\n",
       "    <tr style=\"text-align: right;\">\n",
       "      <th></th>\n",
       "      <th>0.4313_bagged_nolearn</th>\n",
       "    </tr>\n",
       "    <tr>\n",
       "      <th>id</th>\n",
       "      <th></th>\n",
       "    </tr>\n",
       "  </thead>\n",
       "  <tbody>\n",
       "    <tr>\n",
       "      <th>659</th>\n",
       "      <td>0.539235</td>\n",
       "    </tr>\n",
       "    <tr>\n",
       "      <th>276</th>\n",
       "      <td>0.066911</td>\n",
       "    </tr>\n",
       "    <tr>\n",
       "      <th>263</th>\n",
       "      <td>0.203950</td>\n",
       "    </tr>\n",
       "    <tr>\n",
       "      <th>303</th>\n",
       "      <td>0.292067</td>\n",
       "    </tr>\n",
       "    <tr>\n",
       "      <th>83</th>\n",
       "      <td>0.612925</td>\n",
       "    </tr>\n",
       "  </tbody>\n",
       "</table>\n",
       "</div>"
      ],
      "text/plain": [
       "     0.4313_bagged_nolearn\n",
       "id                        \n",
       "659               0.539235\n",
       "276               0.066911\n",
       "263               0.203950\n",
       "303               0.292067\n",
       "83                0.612925"
      ]
     },
     "execution_count": 15,
     "metadata": {},
     "output_type": "execute_result"
    }
   ],
   "source": [
    "from os.path import split\n",
    "corr_table = pd.read_csv(file_list_all[0],names=['id',split(file_list_all[0])[1][11:-4]],header=0,index_col=0)\n",
    "corr_table.head()"
   ]
  },
  {
   "cell_type": "code",
   "execution_count": 16,
   "metadata": {
    "collapsed": false
   },
   "outputs": [
    {
     "data": {
      "text/html": [
       "<div>\n",
       "<table border=\"1\" class=\"dataframe\">\n",
       "  <thead>\n",
       "    <tr style=\"text-align: right;\">\n",
       "      <th></th>\n",
       "      <th>0.4313_bagged_nolearn</th>\n",
       "      <th>0.4411_LogisticRegression</th>\n",
       "      <th>0.4442_bagged_logit</th>\n",
       "      <th>0.4452_GradientBoostingClassifier_exponential</th>\n",
       "      <th>0.4457_LogisticRegressionCV</th>\n",
       "      <th>0.4465_bagged_scikit_nn</th>\n",
       "      <th>0.4527_bagged_gbc</th>\n",
       "      <th>0.4566_nolearn</th>\n",
       "      <th>0.4608_GradientBoostingClassifier</th>\n",
       "      <th>0.4648_GradientBoostingClassifier_engineering</th>\n",
       "      <th>...</th>\n",
       "      <th>0.5974_boosted_logit_lbfgs</th>\n",
       "      <th>0.6289_KMeans</th>\n",
       "      <th>0.6642_AdaBoostClassifier</th>\n",
       "      <th>0.6891_boosted_logit_sag</th>\n",
       "      <th>1.1870_KNeighborsClassifier</th>\n",
       "      <th>1.7907_RandomForestClassifier</th>\n",
       "      <th>LogisticRegressionSEED1091</th>\n",
       "      <th>LogisticRegressionSEED0</th>\n",
       "      <th>bagged_nolearnSEED0</th>\n",
       "      <th>bagged_nolearnSEED1091</th>\n",
       "    </tr>\n",
       "    <tr>\n",
       "      <th>id</th>\n",
       "      <th></th>\n",
       "      <th></th>\n",
       "      <th></th>\n",
       "      <th></th>\n",
       "      <th></th>\n",
       "      <th></th>\n",
       "      <th></th>\n",
       "      <th></th>\n",
       "      <th></th>\n",
       "      <th></th>\n",
       "      <th></th>\n",
       "      <th></th>\n",
       "      <th></th>\n",
       "      <th></th>\n",
       "      <th></th>\n",
       "      <th></th>\n",
       "      <th></th>\n",
       "      <th></th>\n",
       "      <th></th>\n",
       "      <th></th>\n",
       "      <th></th>\n",
       "    </tr>\n",
       "  </thead>\n",
       "  <tbody>\n",
       "    <tr>\n",
       "      <th>659</th>\n",
       "      <td>0.539235</td>\n",
       "      <td>0.476087</td>\n",
       "      <td>0.479018</td>\n",
       "      <td>0.385171</td>\n",
       "      <td>0.492508</td>\n",
       "      <td>0.467785</td>\n",
       "      <td>0.397056</td>\n",
       "      <td>0.516338</td>\n",
       "      <td>0.446919</td>\n",
       "      <td>0.561879</td>\n",
       "      <td>...</td>\n",
       "      <td>0.512642</td>\n",
       "      <td>0.65</td>\n",
       "      <td>0.497396</td>\n",
       "      <td>0.500173</td>\n",
       "      <td>0.333333</td>\n",
       "      <td>0.800000</td>\n",
       "      <td>0.476087</td>\n",
       "      <td>0.476087</td>\n",
       "      <td>0.518869</td>\n",
       "      <td>0.531329</td>\n",
       "    </tr>\n",
       "    <tr>\n",
       "      <th>276</th>\n",
       "      <td>0.066911</td>\n",
       "      <td>0.121987</td>\n",
       "      <td>0.135497</td>\n",
       "      <td>0.320849</td>\n",
       "      <td>0.108672</td>\n",
       "      <td>0.109523</td>\n",
       "      <td>0.198108</td>\n",
       "      <td>0.100744</td>\n",
       "      <td>0.282111</td>\n",
       "      <td>0.167286</td>\n",
       "      <td>...</td>\n",
       "      <td>0.369166</td>\n",
       "      <td>0.35</td>\n",
       "      <td>0.477250</td>\n",
       "      <td>0.494546</td>\n",
       "      <td>0.111111</td>\n",
       "      <td>0.100000</td>\n",
       "      <td>0.121987</td>\n",
       "      <td>0.121987</td>\n",
       "      <td>0.028488</td>\n",
       "      <td>0.100473</td>\n",
       "    </tr>\n",
       "    <tr>\n",
       "      <th>263</th>\n",
       "      <td>0.203950</td>\n",
       "      <td>0.246238</td>\n",
       "      <td>0.243379</td>\n",
       "      <td>0.176180</td>\n",
       "      <td>0.265208</td>\n",
       "      <td>0.134464</td>\n",
       "      <td>0.172214</td>\n",
       "      <td>0.296101</td>\n",
       "      <td>0.230932</td>\n",
       "      <td>0.167521</td>\n",
       "      <td>...</td>\n",
       "      <td>0.451774</td>\n",
       "      <td>0.35</td>\n",
       "      <td>0.492228</td>\n",
       "      <td>0.499761</td>\n",
       "      <td>0.222222</td>\n",
       "      <td>0.076074</td>\n",
       "      <td>0.246238</td>\n",
       "      <td>0.246238</td>\n",
       "      <td>0.164535</td>\n",
       "      <td>0.218745</td>\n",
       "    </tr>\n",
       "    <tr>\n",
       "      <th>303</th>\n",
       "      <td>0.292067</td>\n",
       "      <td>0.341405</td>\n",
       "      <td>0.358997</td>\n",
       "      <td>0.309082</td>\n",
       "      <td>0.328875</td>\n",
       "      <td>0.113216</td>\n",
       "      <td>0.300384</td>\n",
       "      <td>0.352704</td>\n",
       "      <td>0.380433</td>\n",
       "      <td>0.302466</td>\n",
       "      <td>...</td>\n",
       "      <td>0.446446</td>\n",
       "      <td>0.65</td>\n",
       "      <td>0.477969</td>\n",
       "      <td>0.497743</td>\n",
       "      <td>0.111111</td>\n",
       "      <td>0.300000</td>\n",
       "      <td>0.341405</td>\n",
       "      <td>0.341406</td>\n",
       "      <td>0.236110</td>\n",
       "      <td>0.301656</td>\n",
       "    </tr>\n",
       "    <tr>\n",
       "      <th>83</th>\n",
       "      <td>0.612925</td>\n",
       "      <td>0.530463</td>\n",
       "      <td>0.542771</td>\n",
       "      <td>0.564327</td>\n",
       "      <td>0.538460</td>\n",
       "      <td>0.577198</td>\n",
       "      <td>0.529633</td>\n",
       "      <td>0.561664</td>\n",
       "      <td>0.584940</td>\n",
       "      <td>0.688591</td>\n",
       "      <td>...</td>\n",
       "      <td>0.507131</td>\n",
       "      <td>0.65</td>\n",
       "      <td>0.499939</td>\n",
       "      <td>0.499948</td>\n",
       "      <td>0.333333</td>\n",
       "      <td>0.400000</td>\n",
       "      <td>0.530463</td>\n",
       "      <td>0.530463</td>\n",
       "      <td>0.538293</td>\n",
       "      <td>0.617299</td>\n",
       "    </tr>\n",
       "  </tbody>\n",
       "</table>\n",
       "<p>5 rows × 29 columns</p>\n",
       "</div>"
      ],
      "text/plain": [
       "     0.4313_bagged_nolearn  0.4411_LogisticRegression  0.4442_bagged_logit  \\\n",
       "id                                                                           \n",
       "659               0.539235                   0.476087             0.479018   \n",
       "276               0.066911                   0.121987             0.135497   \n",
       "263               0.203950                   0.246238             0.243379   \n",
       "303               0.292067                   0.341405             0.358997   \n",
       "83                0.612925                   0.530463             0.542771   \n",
       "\n",
       "     0.4452_GradientBoostingClassifier_exponential  \\\n",
       "id                                                   \n",
       "659                                       0.385171   \n",
       "276                                       0.320849   \n",
       "263                                       0.176180   \n",
       "303                                       0.309082   \n",
       "83                                        0.564327   \n",
       "\n",
       "     0.4457_LogisticRegressionCV  0.4465_bagged_scikit_nn  0.4527_bagged_gbc  \\\n",
       "id                                                                             \n",
       "659                     0.492508                 0.467785           0.397056   \n",
       "276                     0.108672                 0.109523           0.198108   \n",
       "263                     0.265208                 0.134464           0.172214   \n",
       "303                     0.328875                 0.113216           0.300384   \n",
       "83                      0.538460                 0.577198           0.529633   \n",
       "\n",
       "     0.4566_nolearn  0.4608_GradientBoostingClassifier  \\\n",
       "id                                                       \n",
       "659        0.516338                           0.446919   \n",
       "276        0.100744                           0.282111   \n",
       "263        0.296101                           0.230932   \n",
       "303        0.352704                           0.380433   \n",
       "83         0.561664                           0.584940   \n",
       "\n",
       "     0.4648_GradientBoostingClassifier_engineering           ...            \\\n",
       "id                                                           ...             \n",
       "659                                       0.561879           ...             \n",
       "276                                       0.167286           ...             \n",
       "263                                       0.167521           ...             \n",
       "303                                       0.302466           ...             \n",
       "83                                        0.688591           ...             \n",
       "\n",
       "     0.5974_boosted_logit_lbfgs  0.6289_KMeans  0.6642_AdaBoostClassifier  \\\n",
       "id                                                                          \n",
       "659                    0.512642           0.65                   0.497396   \n",
       "276                    0.369166           0.35                   0.477250   \n",
       "263                    0.451774           0.35                   0.492228   \n",
       "303                    0.446446           0.65                   0.477969   \n",
       "83                     0.507131           0.65                   0.499939   \n",
       "\n",
       "     0.6891_boosted_logit_sag  1.1870_KNeighborsClassifier  \\\n",
       "id                                                           \n",
       "659                  0.500173                     0.333333   \n",
       "276                  0.494546                     0.111111   \n",
       "263                  0.499761                     0.222222   \n",
       "303                  0.497743                     0.111111   \n",
       "83                   0.499948                     0.333333   \n",
       "\n",
       "     1.7907_RandomForestClassifier  LogisticRegressionSEED1091  \\\n",
       "id                                                               \n",
       "659                       0.800000                    0.476087   \n",
       "276                       0.100000                    0.121987   \n",
       "263                       0.076074                    0.246238   \n",
       "303                       0.300000                    0.341405   \n",
       "83                        0.400000                    0.530463   \n",
       "\n",
       "     LogisticRegressionSEED0  bagged_nolearnSEED0  bagged_nolearnSEED1091  \n",
       "id                                                                         \n",
       "659                 0.476087             0.518869                0.531329  \n",
       "276                 0.121987             0.028488                0.100473  \n",
       "263                 0.246238             0.164535                0.218745  \n",
       "303                 0.341406             0.236110                0.301656  \n",
       "83                  0.530463             0.538293                0.617299  \n",
       "\n",
       "[5 rows x 29 columns]"
      ]
     },
     "execution_count": 16,
     "metadata": {},
     "output_type": "execute_result"
    }
   ],
   "source": [
    "for file_path in file_list_all[1:]:\n",
    "    temp = pd.read_csv(file_path,names=['id',split(file_path)[1][11:-4]],header=0,index_col=0)\n",
    "    corr_table[temp.columns[0]] = temp[[temp.columns[0]]]\n",
    "corr_table.head()"
   ]
  },
  {
   "cell_type": "markdown",
   "metadata": {},
   "source": [
    "# Display the correlations among the submissions"
   ]
  },
  {
   "cell_type": "code",
   "execution_count": 17,
   "metadata": {
    "collapsed": false
   },
   "outputs": [
    {
     "data": {
      "image/png": "[encoded data removed]",
      "text/plain": [
       "<matplotlib.figure.Figure at 0x7ff70d660190>"
      ]
     },
     "metadata": {},
     "output_type": "display_data"
    }
   ],
   "source": [
    "import seaborn as sns\n",
    "\n",
    "# Compute the correlation matrix\n",
    "corr_matrix = corr_table.corr()\n",
    "\n",
    "# Generate a mask for the upper triangle\n",
    "mask = np.zeros_like(corr_matrix, dtype=np.bool)\n",
    "mask[np.triu_indices_from(mask)] = True\n",
    "\n",
    "# Set up the matplotlib figure\n",
    "f, ax = plt.subplots(figsize=(11, 9))\n",
    "\n",
    "# Generate a custom diverging colormap\n",
    "cmap = sns.diverging_palette(220, 10, as_cmap=True)\n",
    "\n",
    "# Draw the heatmap with the mask and correct aspect ratio\n",
    "sns.heatmap(corr_matrix, mask=mask, cmap=cmap, vmax=.9,\n",
    "            square=True, xticklabels=4, yticklabels=3,\n",
    "            linewidths=.5, cbar_kws={\"shrink\": .5}, ax=ax)\n",
    "plt.show()"
   ]
  },
  {
   "cell_type": "markdown",
   "metadata": {},
   "source": [
    "# Find the least-correlated pairs of submissions"
   ]
  },
  {
   "cell_type": "code",
   "execution_count": 18,
   "metadata": {
    "collapsed": false
   },
   "outputs": [
    {
     "data": {
      "text/plain": [
       "(29,\n",
       " [('0.5334_boosted_svc', '0.6891_boosted_logit_sag', -0.16550692743673115),\n",
       "  ('0.5336_SVC', '0.6891_boosted_logit_sag', -0.16494092027342691),\n",
       "  ('0.5336_SVC', '0.6642_AdaBoostClassifier', -0.0099063674141259602),\n",
       "  ('0.5334_boosted_svc', '0.6642_AdaBoostClassifier', -0.0011863362569463894),\n",
       "  ('0.5334_boosted_svc', '0.5974_boosted_logit_lbfgs', 0.011975138348080042),\n",
       "  ('0.5336_SVC', '0.5974_boosted_logit_lbfgs', 0.014320591849702654),\n",
       "  ('0.5334_boosted_svc', '0.5891_boosted_logit_newton', 0.030002610460851915),\n",
       "  ('0.5336_SVC', '0.5891_boosted_logit_newton', 0.032464490936548802),\n",
       "  ('0.5336_SVC', '0.5670_SGDClassifier', 0.055922689607270301),\n",
       "  ('0.6289_KMeans', '0.6891_boosted_logit_sag', 0.069626679789736245),\n",
       "  ('0.5334_boosted_svc', '0.5670_SGDClassifier', 0.092501441774125684),\n",
       "  ('0.4457_LogisticRegressionCV', '0.5334_boosted_svc', 0.1081850684277918),\n",
       "  ('0.4457_LogisticRegressionCV', '0.5336_SVC', 0.10846738136905446),\n",
       "  ('0.4566_nolearn', '0.5336_SVC', 0.131916155532257),\n",
       "  ('0.4566_nolearn', '0.5334_boosted_svc', 0.13846799750619213),\n",
       "  ('0.4411_LogisticRegression', '0.5336_SVC', 0.16799548806825729),\n",
       "  ('0.5336_SVC', 'LogisticRegressionSEED1091', 0.16799554661502436),\n",
       "  ('0.5336_SVC', 'LogisticRegressionSEED0', 0.1679956553743186),\n",
       "  ('0.4442_bagged_logit', '0.5336_SVC', 0.16931707585196951),\n",
       "  ('0.4442_bagged_logit', '0.5334_boosted_svc', 0.17166619895766291),\n",
       "  ('0.4411_LogisticRegression', '0.5334_boosted_svc', 0.17172170961957539),\n",
       "  ('0.5334_boosted_svc', 'LogisticRegressionSEED1091', 0.1717217720644735),\n",
       "  ('0.5334_boosted_svc', 'LogisticRegressionSEED0', 0.17172187622471602),\n",
       "  ('0.5334_boosted_svc', '1.1870_KNeighborsClassifier', 0.18503600946355137),\n",
       "  ('0.5336_SVC', '1.1870_KNeighborsClassifier', 0.19184522684597499),\n",
       "  ('0.5334_boosted_svc', '0.5732_cosine_similarity', 0.19334102892064228),\n",
       "  ('0.5670_SGDClassifier', '0.6289_KMeans', 0.19362018828102467),\n",
       "  ('0.5336_SVC', '0.5732_cosine_similarity', 0.19524734030421301),\n",
       "  ('0.5336_SVC', 'bagged_nolearnSEED1091', 0.19744840810261119)])"
      ]
     },
     "execution_count": 18,
     "metadata": {},
     "output_type": "execute_result"
    }
   ],
   "source": [
    "corr_threshold = 0.20\n",
    "\n",
    "indices = np.where(corr_matrix < corr_threshold)\n",
    "indices = [(corr_matrix.index[x], corr_matrix.columns[y], corr_matrix.ix[x,y]) for x, y in zip(*indices)\n",
    "                                        if x != y and x < y]\n",
    "\n",
    "from operator import itemgetter\n",
    "indices.sort(key=itemgetter(2))\n",
    "len(indices),indices"
   ]
  },
  {
   "cell_type": "code",
   "execution_count": 19,
   "metadata": {
    "collapsed": false
   },
   "outputs": [
    {
     "data": {
      "text/plain": [
       "(17,\n",
       " {'../submissions/submission_0.4411_LogisticRegression.csv',\n",
       "  '../submissions/submission_0.4442_bagged_logit.csv',\n",
       "  '../submissions/submission_0.4457_LogisticRegressionCV.csv',\n",
       "  '../submissions/submission_0.4566_nolearn.csv',\n",
       "  '../submissions/submission_0.5334_boosted_svc.csv',\n",
       "  '../submissions/submission_0.5336_SVC.csv',\n",
       "  '../submissions/submission_0.5670_SGDClassifier.csv',\n",
       "  '../submissions/submission_0.5732_cosine_similarity.csv',\n",
       "  '../submissions/submission_0.5891_boosted_logit_newton.csv',\n",
       "  '../submissions/submission_0.5974_boosted_logit_lbfgs.csv',\n",
       "  '../submissions/submission_0.6289_KMeans.csv',\n",
       "  '../submissions/submission_0.6642_AdaBoostClassifier.csv',\n",
       "  '../submissions/submission_0.6891_boosted_logit_sag.csv',\n",
       "  '../submissions/submission_1.1870_KNeighborsClassifier.csv',\n",
       "  '../submissions/submission_LogisticRegressionSEED0.csv',\n",
       "  '../submissions/submission_LogisticRegressionSEED1091.csv',\n",
       "  '../submissions/submission_bagged_nolearnSEED1091.csv'})"
      ]
     },
     "execution_count": 19,
     "metadata": {},
     "output_type": "execute_result"
    }
   ],
   "source": [
    "least_corr = set(set(['../submissions/submission_'+a+'.csv' for a,b,c in indices]).\\\n",
    "             union(set(['../submissions/submission_'+b+'.csv' for a,b,c in indices])))\n",
    "\n",
    "len(least_corr), least_corr"
   ]
  },
  {
   "cell_type": "code",
   "execution_count": 20,
   "metadata": {
    "collapsed": false
   },
   "outputs": [
    {
     "data": {
      "text/plain": [
       "(['0.308123082933',\n",
       "  '0.462771223664',\n",
       "  '0.201544480802',\n",
       "  '0.494101309394',\n",
       "  '0.456327276011',\n",
       "  '0.35',\n",
       "  '0.308123146171',\n",
       "  '0.237228244543',\n",
       "  '0.499746555027',\n",
       "  '0.355096586523',\n",
       "  '0.35',\n",
       "  '0.35',\n",
       "  '0.229568971977',\n",
       "  '0.458084821701',\n",
       "  '0.3080704208',\n",
       "  '0.222222222222',\n",
       "  '0.308123096572'],\n",
       " 0.34700773166705878)"
      ]
     },
     "execution_count": 20,
     "metadata": {},
     "output_type": "execute_result"
    }
   ],
   "source": [
    "from collections import defaultdict\n",
    "\n",
    "aggregates = defaultdict(list)\n",
    "averages   = defaultdict(list)\n",
    "\n",
    "\n",
    "# 1. collect the probabilities for each ID from all the submission files\n",
    "# ======================================================================\n",
    "for file_name in least_corr:\n",
    "    with open(file_name, 'r') as f:\n",
    "        lines = f.read().splitlines()\n",
    "        for line in lines:\n",
    "            ID,prob = line.split(',')\n",
    "            if ID == '': continue\n",
    "            aggregates[ID].append(prob)\n",
    "            \n",
    "        \n",
    "            \n",
    "# 2. find the average of all the probabilities for each ID\n",
    "# ========================================================\n",
    "averages.update((ID, np.mean(map(float, probs))) for ID, probs in aggregates.items())\n",
    "\n",
    "aggregates['1'],averages['1']"
   ]
  },
  {
   "cell_type": "code",
   "execution_count": 21,
   "metadata": {
    "collapsed": true
   },
   "outputs": [],
   "source": [
    "# f = open(\"../submissions/submission_EnsembleOfAveragesLeastCorr.csv\", \"w\")\n",
    "\n",
    "# f.write(\",Made Donation in March 2007\\n\")\n",
    "# for ID in id_list:\n",
    "#     f.write(\"{},{}\\n\".format(ID, averages[ID]))\n",
    "    \n",
    "# f.close()"
   ]
  },
  {
   "cell_type": "code",
   "execution_count": null,
   "metadata": {
    "collapsed": true
   },
   "outputs": [],
   "source": []
  },
  {
   "cell_type": "code",
   "execution_count": null,
   "metadata": {
    "collapsed": true
   },
   "outputs": [],
   "source": []
  },
  {
   "cell_type": "code",
   "execution_count": null,
   "metadata": {
    "collapsed": true
   },
   "outputs": [],
   "source": []
  },
  {
   "cell_type": "code",
   "execution_count": null,
   "metadata": {
    "collapsed": true
   },
   "outputs": [],
   "source": []
  }
 ],
 "metadata": {
  "kernelspec": {
   "display_name": "Python 2",
   "language": "python",
   "name": "python2"
  },
  "language_info": {
   "codemirror_mode": {
    "name": "ipython",
    "version": 2
   },
   "file_extension": ".py",
   "mimetype": "text/x-python",
   "name": "python",
   "nbconvert_exporter": "python",
   "pygments_lexer": "ipython2",
   "version": "2.7.10"
  }
 },
 "nbformat": 4,
 "nbformat_minor": 0
}
