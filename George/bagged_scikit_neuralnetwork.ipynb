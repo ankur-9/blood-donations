{
 "cells": [
  {
   "cell_type": "markdown",
   "metadata": {},
   "source": [
    "# bagged_scikit_neuralnetwork"
   ]
  },
  {
   "cell_type": "code",
   "execution_count": 1,
   "metadata": {
    "collapsed": true
   },
   "outputs": [],
   "source": [
    "from __future__ import division\n",
    "from IPython.display import display\n",
    "from matplotlib import pyplot as plt\n",
    "%matplotlib inline\n",
    "\n",
    "import numpy  as np\n",
    "import pandas as pd\n",
    "import random, sys, os, re\n",
    "\n",
    "from sknn.mlp                 import Classifier, Layer\n",
    "\n",
    "from sklearn.cross_validation import StratifiedKFold\n",
    "from sklearn.grid_search      import RandomizedSearchCV, GridSearchCV\n",
    "from sklearn.cross_validation import cross_val_predict, permutation_test_score"
   ]
  },
  {
   "cell_type": "code",
   "execution_count": 23,
   "metadata": {
    "collapsed": true
   },
   "outputs": [],
   "source": [
    "SEED   = 97\n",
    "scale  = True \n",
    "minmax = False\n",
    "norm   = False\n",
    "nointercept = True\n",
    "engineering = True\n",
    "\n",
    "N_CLASSES  = 2\n",
    "max_epochs = 100\n",
    "\n",
    "submission_filename = \"../submissions/submission_bagged_scikit_nn.csv\""
   ]
  },
  {
   "cell_type": "markdown",
   "metadata": {
    "collapsed": false,
    "scrolled": true
   },
   "source": [
    "# Load the training data"
   ]
  },
  {
   "cell_type": "code",
   "execution_count": 3,
   "metadata": {
    "collapsed": false
   },
   "outputs": [],
   "source": [
    "from load_blood_data import load_blood_data\n",
    "\n",
    "y_train, X_train = load_blood_data(train=True, SEED   = SEED, \n",
    "                                               scale  = scale,\n",
    "                                               minmax = minmax,\n",
    "                                               norm   = norm,\n",
    "                                               nointercept = nointercept,\n",
    "                                               engineering = engineering)"
   ]
  },
  {
   "cell_type": "markdown",
   "metadata": {},
   "source": [
    "# Fit the model"
   ]
  },
  {
   "cell_type": "code",
   "execution_count": 4,
   "metadata": {
    "collapsed": true
   },
   "outputs": [],
   "source": [
    "StatifiedCV = StratifiedKFold(y            = y_train, \n",
    "                              n_folds      = 10, \n",
    "                              shuffle      = True, \n",
    "                              random_state = SEED)"
   ]
  },
  {
   "cell_type": "code",
   "execution_count": 31,
   "metadata": {
    "collapsed": true
   },
   "outputs": [],
   "source": [
    "\"\"\"\n",
    "[\"Bagging Predictors\" Department of Statistics UC Berkeley 1994; Leo Breiman]\n",
    "\"\"\"\n",
    "\n",
    "from sklearn.base import BaseEstimator, ClassifierMixin, clone\n",
    "\n",
    "\n",
    "class BaggedScikitClassifier(BaseEstimator, ClassifierMixin):\n",
    "    \"\"\"\n",
    "    Runs a scikit-learn base estimator 'n_estimators' times, fitting with\n",
    "    the X_train indices drawn from a random sample of size X_train.shape[0] \n",
    "    with replacement\n",
    "    \n",
    "    sklearn.ensemble.BaggingClassifier is more convenient and has more tunable\n",
    "    features but it requires the base estimator to have a 'fit' method with a\n",
    "    'sample_weight' parameter and many estimators do not \n",
    "    (as of sklearn.__version__ == '0.17').\n",
    "    \n",
    "    \n",
    "    Usage\n",
    "    -----\n",
    "    clf = BaggedScikitClassifier(base_estimator, n_estimators)\n",
    "    \n",
    "        base_estimator is an instance of a scikit-learn object\n",
    "        n_estimators   is the number of bagged replicas to use\n",
    "        \n",
    "    clf.fit(X_train, y_train)\n",
    "    \n",
    "        a no-op; merely stores X_train and y_train for use in the\n",
    "        predict and predict_proba methods\n",
    "        \n",
    "    clf.predict(X_test)\n",
    "    \n",
    "        the value returned is the majority vote of each of the\n",
    "        fitted base_estimators' class predictions\n",
    "        \n",
    "    clf.predict_proba(X_test)\n",
    "    \n",
    "        the value returned is the average of each of the\n",
    "        fitted base_estimators' probabilities\n",
    "    \"\"\"\n",
    "    def __init__(self, base_estimator, n_estimators=15):\n",
    "        self.n_estimators   = n_estimators\n",
    "        self.base_estimator = base_estimator\n",
    "\n",
    "        \n",
    "    def fit(self, X_train, y_train):\n",
    "        \"\"\"\n",
    "        The actual fitting is done in the predict & predict_proba methods\n",
    "        \"\"\"\n",
    "        self.X_train = X_train\n",
    "        self.y_train = y_train\n",
    "        \n",
    "        return self\n",
    "        \n",
    "            \n",
    "    def predict(self, X_test):\n",
    "        \"\"\"\n",
    "        Return the majority vote of 'n_estimators' fits\n",
    "        \"\"\"\n",
    "        predictions = []\n",
    "        for i in range(self.n_estimators):\n",
    "            clf = clone(self.base_estimator)\n",
    "            idx = np.random.choice(a    = range(self.X_train.shape[0]), \n",
    "                                   size = self.X_train.shape[0], \n",
    "                                   replace=True, p=None)\n",
    "\n",
    "            clf.fit(self.X_train[idx,:], self.y_train[idx])\n",
    "            predictions.append(clf.predict(X_test))\n",
    "            \n",
    "        from scipy.stats import mode\n",
    "        \n",
    "        return mode(predictions)[0][0]\n",
    "    \n",
    "    def predict_proba(self, X_test):\n",
    "        \"\"\"\n",
    "        Return the average probability matrix of 'n_estimators' fits\n",
    "        \"\"\"\n",
    "        completed_bags = 0\n",
    "        predictions = np.empty((X_test.shape[0], N_CLASSES), dtype=np.float32)\n",
    "        for i in range(self.n_estimators):\n",
    "            clf = clone(self.base_estimator)\n",
    "            idx = np.random.choice(a    = range(self.X_train.shape[0]), \n",
    "                                   size = self.X_train.shape[0], \n",
    "                                   replace=True, p=None)\n",
    "            \n",
    "            clf.fit(self.X_train[idx,:], self.y_train[idx])\n",
    "            predictions += clf.predict_proba(X_test)\n",
    "            completed_bags += 1\n",
    "            \n",
    "        return predictions / float(completed_bags)"
   ]
  },
  {
   "cell_type": "code",
   "execution_count": 32,
   "metadata": {
    "collapsed": false,
    "scrolled": false
   },
   "outputs": [
    {
     "name": "stdout",
     "output_type": "stream",
     "text": [
      "CPU times: user 0 ns, sys: 0 ns, total: 0 ns\n",
      "Wall time: 133 µs\n"
     ]
    }
   ],
   "source": [
    "%%time\n",
    "\n",
    "random.seed(SEED)\n",
    "\n",
    "# ----------------------------------- base estimator -------------------------------\n",
    "nn_layers  = [\n",
    "              Layer(type = 'Rectifier', name         = 'hidden', \n",
    "                                        units        = 100,\n",
    "                                        weight_decay = None,\n",
    "                                        pieces       = None,\n",
    "                                        dropout      = None),\n",
    "    \n",
    "              Layer(type = 'Softmax',   name         = 'output')\n",
    "             ]\n",
    "\n",
    "base = Classifier(layers            = nn_layers,\n",
    "                 learning_rate     = 0.01,\n",
    "                 learning_rule     = 'nesterov',\n",
    "                 learning_momentum = 0.9,\n",
    "                 loss_type         = u'mse',\n",
    "                 mutator           = None,    # data augmentation function\n",
    "                 \n",
    "                 regularize        = None,\n",
    "                 weight_decay      = None,\n",
    "                 dropout_rate      = None,\n",
    "                 \n",
    "                 batch_size        = 10,\n",
    "                 \n",
    "                 valid_size        = None,    \n",
    "                 valid_set         = None,\n",
    "                 \n",
    "                 n_stable          = 10,      # early stopping after ...\n",
    "                 f_stable          = 0.001,   # validation error change threshold\n",
    "                 n_iter            = max_epochs,     \n",
    "                 \n",
    "                 random_state      = SEED, \n",
    "                 debug             = False, \n",
    "                 verbose           = True) \n",
    "\n",
    "# ----------------------------------- BaggedScikitClassifier ------------------------------- \n",
    "clf = BaggedScikitClassifier(base_estimator = base, \n",
    "                             n_estimators   = 15)"
   ]
  },
  {
   "cell_type": "code",
   "execution_count": 7,
   "metadata": {
    "collapsed": false
   },
   "outputs": [],
   "source": [
    "# from sklearn_utilities import GridSearchHeatmap\n",
    "\n",
    "# GridSearchHeatmap(grid_clf, y_key='learning_rate', x_key='n_estimators')\n",
    "\n",
    "# from sklearn_utilities import plot_validation_curves\n",
    "\n",
    "# plot_validation_curves(grid_clf, param_grid, X_train, y_train, ylim = (0.0, 1.05))"
   ]
  },
  {
   "cell_type": "code",
   "execution_count": 8,
   "metadata": {
    "collapsed": false,
    "scrolled": false
   },
   "outputs": [
    {
     "data": {
      "image/png": "[encoded data removed]",
      "text/plain": [
       "<matplotlib.figure.Figure at 0x7f8c90e67e10>"
      ]
     },
     "metadata": {},
     "output_type": "display_data"
    },
    {
     "name": "stdout",
     "output_type": "stream",
     "text": [
      "CPU times: user 468 ms, sys: 104 ms, total: 572 ms\n",
      "Wall time: 5min 43s\n"
     ]
    }
   ],
   "source": [
    "%%time\n",
    "\n",
    "try:\n",
    "    from sklearn_utilities import plot_learning_curve\n",
    "except:\n",
    "    import imp, os\n",
    "    util = imp.load_source('sklearn_utilities', os.path.expanduser('~/Dropbox/Python/sklearn_utilities.py'))\n",
    "    from sklearn_utilities import plot_learning_curve\n",
    "\n",
    "plot_learning_curve(estimator   = clf, \n",
    "                    title       = 'Learning Curves', \n",
    "                    X           = X_train.values.astype(np.float32), \n",
    "                    y           = y_train, \n",
    "                    ylim        = (0.0, 1.10), \n",
    "                    cv          = StatifiedCV, \n",
    "                    train_sizes = np.linspace(.1, 1.0, 5),\n",
    "                    n_jobs      = -1)\n",
    "\n",
    "plt.show()"
   ]
  },
  {
   "cell_type": "markdown",
   "metadata": {},
   "source": [
    "# Training set predictions"
   ]
  },
  {
   "cell_type": "code",
   "execution_count": 9,
   "metadata": {
    "collapsed": false
   },
   "outputs": [
    {
     "name": "stdout",
     "output_type": "stream",
     "text": [
      "CPU times: user 100 ms, sys: 40 ms, total: 140 ms\n",
      "Wall time: 1min\n"
     ]
    }
   ],
   "source": [
    "%%time\n",
    "\n",
    "train_preds = cross_val_predict(estimator    = clf, \n",
    "                                X            = X_train.values.astype(np.float32), \n",
    "                                y            = y_train, \n",
    "                                cv           = StatifiedCV, \n",
    "                                n_jobs       = -1, \n",
    "                                verbose      = 0, \n",
    "                                fit_params   = None, \n",
    "                                pre_dispatch = '2*n_jobs')\n",
    "\n",
    "y_true, y_pred   = y_train, train_preds"
   ]
  },
  {
   "cell_type": "code",
   "execution_count": 10,
   "metadata": {
    "collapsed": false
   },
   "outputs": [
    {
     "name": "stdout",
     "output_type": "stream",
     "text": [
      "[[400  38]\n",
      " [ 78  60]]\n"
     ]
    },
    {
     "data": {
      "image/png": "[encoded data removed]",
      "text/plain": [
       "<matplotlib.figure.Figure at 0x7f8c90e79b90>"
      ]
     },
     "metadata": {},
     "output_type": "display_data"
    },
    {
     "name": "stdout",
     "output_type": "stream",
     "text": [
      "Accuracy 0.7986, mis-class rate 0.2014\n"
     ]
    }
   ],
   "source": [
    "from sklearn.metrics import confusion_matrix\n",
    "cm = confusion_matrix(y_true, y_pred, labels=None)\n",
    "print cm\n",
    "\n",
    "try:\n",
    "    from sklearn_utilities import plot_confusion_matrix\n",
    "except:\n",
    "    import imp, os\n",
    "    util = imp.load_source('sklearn_utilities', os.path.expanduser('~/Dropbox/Python/sklearn_utilities.py'))\n",
    "    from sklearn_utilities import plot_confusion_matrix\n",
    "\n",
    "plot_confusion_matrix(cm, ['Did not Donate','Donated'])\n",
    "\n",
    "accuracy = round(np.trace(cm)/float(np.sum(cm)),4)\n",
    "misclass = 1 - accuracy\n",
    "print(\"Accuracy {}, mis-class rate {}\".format(accuracy,misclass))"
   ]
  },
  {
   "cell_type": "code",
   "execution_count": 11,
   "metadata": {
    "collapsed": false
   },
   "outputs": [
    {
     "data": {
      "image/png": "[encoded data removed]",
      "text/plain": [
       "<matplotlib.figure.Figure at 0x7f8c90e79990>"
      ]
     },
     "metadata": {},
     "output_type": "display_data"
    }
   ],
   "source": [
    "from sklearn.metrics import roc_curve\n",
    "from sklearn.metrics import roc_auc_score\n",
    "from sklearn.metrics import log_loss\n",
    "from sklearn.metrics import f1_score\n",
    "\n",
    "fpr, tpr, thresholds = roc_curve(y_true, y_pred, pos_label=None)\n",
    "\n",
    "\n",
    "plt.figure(figsize=(10,6))\n",
    "plt.plot([0, 1], [0, 1], 'k--')\n",
    "plt.plot(fpr, tpr)\n",
    "\n",
    "AUC = roc_auc_score(y_true, y_pred, average='macro')\n",
    "plt.text(x=0.6,y=0.4,s=\"AUC         {:.4f}\"\\\n",
    "         .format(AUC),\n",
    "        fontsize=16)\n",
    "\n",
    "plt.text(x=0.6,y=0.3,s=\"accuracy {:.2f}%\"\\\n",
    "         .format(accuracy*100),\n",
    "        fontsize=16)\n",
    "\n",
    "logloss = log_loss(y_true, y_pred)\n",
    "plt.text(x=0.6,y=0.2,s=\"LogLoss   {:.4f}\"\\\n",
    "         .format(logloss),\n",
    "        fontsize=16)\n",
    "\n",
    "f1 = f1_score(y_true, y_pred)\n",
    "plt.text(x=0.6,y=0.1,s=\"f1             {:.4f}\"\\\n",
    "         .format(f1),\n",
    "        fontsize=16)\n",
    "\n",
    "plt.xlabel('False positive rate')\n",
    "plt.ylabel('True positive rate')\n",
    "plt.title('ROC curve')\n",
    "plt.show()"
   ]
  },
  {
   "cell_type": "code",
   "execution_count": 12,
   "metadata": {
    "collapsed": false
   },
   "outputs": [
    {
     "data": {
      "image/png": "[encoded data removed]",
      "text/plain": [
       "<matplotlib.figure.Figure at 0x7f8c8d4a8e90>"
      ]
     },
     "metadata": {},
     "output_type": "display_data"
    },
    {
     "name": "stdout",
     "output_type": "stream",
     "text": [
      "CPU times: user 3min 10s, sys: 1.33 s, total: 3min 12s\n",
      "Wall time: 1h 23min 30s\n"
     ]
    }
   ],
   "source": [
    "%%time\n",
    "\n",
    "# score : The true score without permuting targets.\n",
    "# permutation_scores : array, shape (n_permutations,)\n",
    "#                     The scores obtained for each permutation.\n",
    "# pvalue : The returned value equals \n",
    "#              > p-value if scoring returns bigger numbers for better scores (e.g., accuracy_score). \n",
    "#              > If scoring is a loss function (i.e. when lower is better such as with mean_squared_error) \n",
    "#                then this is actually the complement of the p-value: 1 - p-value.\n",
    "\n",
    "score, permutation_scores, pvalue = permutation_test_score(estimator      = clf, \n",
    "                                                           X              = X_train.values.astype(np.float32), \n",
    "                                                           y              = y_train, \n",
    "                                                           cv             = StatifiedCV, \n",
    "                                                           labels         = None,\n",
    "                                                           random_state   = SEED,\n",
    "                                                           verbose        = 0,\n",
    "                                                           n_permutations = 100, \n",
    "                                                           scoring        = None,\n",
    "                                                           n_jobs         = -1) \n",
    "# find mean and stdev of the scores\n",
    "from scipy.stats import norm\n",
    "mu, std = norm.fit(permutation_scores)\n",
    "\n",
    "\n",
    "plt.figure(figsize=(20,8))\n",
    "plt.hist(permutation_scores, 20, label='Permutation scores')\n",
    "\n",
    "ylim = plt.ylim()\n",
    "plt.plot(2 * [score], ylim, '--g', linewidth=3,\n",
    "         label='Classification Score (pvalue {:.4f})'.format(pvalue))\n",
    "         \n",
    "plt.plot(2 * [1. / N_CLASSES], ylim, 'r', linewidth=7, label='Luck')\n",
    "\n",
    "plt.ylim(ylim)\n",
    "plt.title('mu={:.4f}, std={:.4f}'.format(mu,std), fontsize=20)\n",
    "plt.legend(loc='center',fontsize=16)\n",
    "plt.xlabel('Score')\n",
    "plt.show()"
   ]
  },
  {
   "cell_type": "code",
   "execution_count": 13,
   "metadata": {
    "collapsed": false
   },
   "outputs": [
    {
     "name": "stdout",
     "output_type": "stream",
     "text": [
      "bagged_scikit_nn           ,        ,   0.7986 ,  6.9558 , 0.6740 , 0.5085 , 0.7463 , 0.0065\n"
     ]
    }
   ],
   "source": [
    "# format for scores.csv file\n",
    "import re\n",
    "algo = re.search(r\"submission_(.*?)\\.csv\", submission_filename).group(1)\n",
    "print(\"{: <26} ,        ,   {:.4f} ,  {:.4f} , {:.4f} , {:.4f} , {:.4f} , {:.4f}\"\\\n",
    "      .format(algo,accuracy,logloss,AUC,f1,mu,std))"
   ]
  },
  {
   "cell_type": "markdown",
   "metadata": {},
   "source": [
    "# Predict the leaderboard score with linear regression"
   ]
  },
  {
   "cell_type": "code",
   "execution_count": 14,
   "metadata": {
    "collapsed": false
   },
   "outputs": [
    {
     "name": "stdout",
     "output_type": "stream",
     "text": [
      "clear all but functions rm(list = setdiff(ls(), lsf.str()))\n",
      "R functions in Dropbox:\n",
      " [1] \"confusion.matrix_ROC.R\" \"eda.R\"                  \"knitr_settings.R\"      \n",
      " [4] \"lm_utilities.R\"         \"lsp.R\"                  \"matrix.power.R\"        \n",
      " [7] \"metrics.R\"              \"multiplot.R\"            \"my.special.functions.R\"\n",
      "[10] \"NOT_IN.R\"               \"SDAFE.R\"                \"signOnToTwitter.R\"     \n",
      "[13] \"source.dropbox.R\"       \"stem_plot.R\"           \n",
      "to load these functions: source(\"/home/george/Dropbox/R_functions/*.R\")\n",
      "\n",
      "To save graphical parameters: opar = par(no.readonly=TRUE)\n",
      "to restore graphical parameters: par(opar)\n"
     ]
    }
   ],
   "source": [
    "# load the R extension\n",
    "%load_ext rpy2.ipython\n",
    "\n",
    "# see http://ipython.readthedocs.org/en/stable/config/extensions/index.html?highlight=rmagic\n",
    "# see http://rpy.sourceforge.net/rpy2/doc-2.4/html/interactive.html#module-rpy2.ipython.rmagic"
   ]
  },
  {
   "cell_type": "code",
   "execution_count": 15,
   "metadata": {
    "collapsed": false
   },
   "outputs": [],
   "source": [
    "# Import python variables into R\n",
    "%R -i accuracy,logloss,AUC,f1,mu,std"
   ]
  },
  {
   "cell_type": "code",
   "execution_count": 16,
   "metadata": {
    "collapsed": false
   },
   "outputs": [
    {
     "data": {
      "text/plain": [
       "     fit    lwr    upr\n",
       "1 0.8084 0.0429 1.5738\n"
      ]
     },
     "metadata": {},
     "output_type": "display_data"
    }
   ],
   "source": [
    "%%R\n",
    "# read in the scores.csv file and perform a linear regression with it using this process's variables\n",
    "\n",
    "score_data = read.csv('../input/scores.csv')\n",
    "\n",
    "lm.fit     = lm(leaderboard_score ~ accuracy + logloss + AUC + f1 + mu + std, \n",
    "                data      = score_data, \n",
    "                na.action = na.omit)\n",
    "\n",
    "slm.fit = step(lm.fit, direction = \"both\", trace=0)\n",
    "\n",
    "predicted_leaderboard_score = predict(object   = slm.fit, \n",
    "                                      newdata  = data.frame(accuracy,logloss,AUC,f1,mu,std),\n",
    "                                      interval = \"prediction\", level = 0.99)\n",
    "\n",
    "print(round(predicted_leaderboard_score,4))"
   ]
  },
  {
   "cell_type": "markdown",
   "metadata": {},
   "source": [
    "# --------------------------------------------------------------------------------------------"
   ]
  },
  {
   "cell_type": "markdown",
   "metadata": {
    "collapsed": true
   },
   "source": [
    "# Test Set Predictions"
   ]
  },
  {
   "cell_type": "markdown",
   "metadata": {},
   "source": [
    "## Re-fit with the full training set"
   ]
  },
  {
   "cell_type": "code",
   "execution_count": 33,
   "metadata": {
    "collapsed": false
   },
   "outputs": [
    {
     "data": {
      "text/plain": [
       "BaggedScikitClassifier(base_estimator=Classifier(batch_size=10, debug=False, dropout_rate=None, f_stable=0.001,\n",
       "      hidden=<sknn.nn.Layer `Rectifier`: name='hidden', units=100>,\n",
       "      layers=[<sknn.nn.Layer `Rectifier`: name='hidden', units=100>, <sknn.nn.Layer `Softmax`: name='output'>],\n",
       "      learning_momentum=0.9, le...e=97,\n",
       "      regularize=None, valid_set=None, valid_size=None, verbose=True,\n",
       "      weight_decay=None),\n",
       "            n_estimators=15)"
      ]
     },
     "execution_count": 33,
     "metadata": {},
     "output_type": "execute_result"
    }
   ],
   "source": [
    "#clf.set_params(**clf_params)\n",
    "clf.fit(X_train.values.astype(np.float32), y_train)"
   ]
  },
  {
   "cell_type": "markdown",
   "metadata": {},
   "source": [
    "## Load the test data"
   ]
  },
  {
   "cell_type": "code",
   "execution_count": 34,
   "metadata": {
    "collapsed": false
   },
   "outputs": [],
   "source": [
    "from load_blood_data import load_blood_data\n",
    "\n",
    "X_test, IDs = load_blood_data(train=False, SEED   = SEED, \n",
    "                                           scale  = scale,\n",
    "                                           minmax = minmax,\n",
    "                                           norm   = norm,\n",
    "                                           nointercept = nointercept,\n",
    "                                           engineering = engineering)"
   ]
  },
  {
   "cell_type": "markdown",
   "metadata": {},
   "source": [
    "# Predict the test set with the fitted model"
   ]
  },
  {
   "cell_type": "code",
   "execution_count": 35,
   "metadata": {
    "collapsed": false
   },
   "outputs": [
    {
     "name": "stdout",
     "output_type": "stream",
     "text": [
      "[1 0 0 0 1 1 0 0 0 0]\n",
      "[[  5.32215059e-01   4.67784971e-01]\n",
      " [  8.90477240e-01   1.09522872e-01]\n",
      " [  8.65536153e-01   1.34463772e-01]\n",
      " [  8.86783600e-01   1.13216370e-01]\n",
      " [  4.22802091e-01   5.77197909e-01]\n",
      " [  1.89969927e-01   8.10029984e-01]\n",
      " [  7.37736285e-01   2.62263745e-01]\n",
      " [  9.58714843e-01   4.12850343e-02]\n",
      " [  9.99967933e-01   3.19885330e-05]\n",
      " [  9.84968185e-01   1.50317950e-02]]\n",
      "[0.46778497, 0.10952287, 0.13446377, 0.11321637, 0.57719791, 0.81002998, 0.26226375, 0.041285034, 3.1988533e-05, 0.015031795]\n"
     ]
    }
   ],
   "source": [
    "y_pred = clf.predict(X_test.values.astype(np.float32)).ravel()\n",
    "print(y_pred[:10])\n",
    "\n",
    "try:\n",
    "    y_pred_probs  = clf.predict_proba(X_test.values.astype(np.float32))\n",
    "    print(y_pred_probs[:10])\n",
    "    donate_probs  = [prob[1] for prob in y_pred_probs]\n",
    "except Exception,e:\n",
    "    print(e)\n",
    "    donate_probs = [0.65 if x>0 else 1-0.65 for x in y_pred]\n",
    "    \n",
    "print(donate_probs[:10])"
   ]
  },
  {
   "cell_type": "markdown",
   "metadata": {},
   "source": [
    "# Create the submission file"
   ]
  },
  {
   "cell_type": "code",
   "execution_count": 37,
   "metadata": {
    "collapsed": false
   },
   "outputs": [],
   "source": [
    "assert len(IDs)==len(donate_probs)\n",
    "\n",
    "f = open(submission_filename, \"w\")\n",
    "\n",
    "f.write(\",Made Donation in March 2007\\n\")\n",
    "for ID, prob in zip(IDs, donate_probs):\n",
    "    f.write(\"{},{}\\n\".format(ID,prob))\n",
    "    \n",
    "f.close()"
   ]
  },
  {
   "cell_type": "code",
   "execution_count": null,
   "metadata": {
    "collapsed": true
   },
   "outputs": [],
   "source": []
  }
 ],
 "metadata": {
  "kernelspec": {
   "display_name": "Python 2",
   "language": "python",
   "name": "python2"
  },
  "language_info": {
   "codemirror_mode": {
    "name": "ipython",
    "version": 2
   },
   "file_extension": ".py",
   "mimetype": "text/x-python",
   "name": "python",
   "nbconvert_exporter": "python",
   "pygments_lexer": "ipython2",
   "version": "2.7.10"
  }
 },
 "nbformat": 4,
 "nbformat_minor": 0
}
