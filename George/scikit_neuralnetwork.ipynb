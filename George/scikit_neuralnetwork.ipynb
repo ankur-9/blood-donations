{
 "cells": [
  {
   "cell_type": "markdown",
   "metadata": {},
   "source": [
    "# scikit_neuralnetwork"
   ]
  },
  {
   "cell_type": "code",
   "execution_count": 1,
   "metadata": {
    "collapsed": true
   },
   "outputs": [],
   "source": [
    "from __future__ import division\n",
    "from IPython.display import display\n",
    "from matplotlib import pyplot as plt\n",
    "%matplotlib inline\n",
    "\n",
    "import numpy  as np\n",
    "import pandas as pd\n",
    "import random, sys, os, re\n",
    "\n",
    "from sknn.mlp                 import Classifier, Layer\n",
    "\n",
    "from sklearn.cross_validation import StratifiedKFold\n",
    "from sklearn.grid_search      import RandomizedSearchCV, GridSearchCV\n",
    "from sklearn.cross_validation import cross_val_predict, permutation_test_score"
   ]
  },
  {
   "cell_type": "code",
   "execution_count": 22,
   "metadata": {
    "collapsed": true
   },
   "outputs": [],
   "source": [
    "SEED   = 97\n",
    "scale  = True \n",
    "minmax = False\n",
    "norm   = False\n",
    "nointercept = True\n",
    "engineering = True\n",
    "\n",
    "N_CLASSES = 2\n",
    "\n",
    "submission_filename = \"../submissions/submission_scikit_nn.csv\""
   ]
  },
  {
   "cell_type": "markdown",
   "metadata": {
    "collapsed": false,
    "scrolled": true
   },
   "source": [
    "# Load the training data"
   ]
  },
  {
   "cell_type": "code",
   "execution_count": 3,
   "metadata": {
    "collapsed": false
   },
   "outputs": [],
   "source": [
    "from load_blood_data import load_blood_data\n",
    "\n",
    "y_train, X_train = load_blood_data(train=True, SEED   = SEED, \n",
    "                                               scale  = scale,\n",
    "                                               minmax = minmax,\n",
    "                                               norm   = norm,\n",
    "                                               nointercept = nointercept,\n",
    "                                               engineering = engineering)"
   ]
  },
  {
   "cell_type": "markdown",
   "metadata": {},
   "source": [
    "# Fit the model"
   ]
  },
  {
   "cell_type": "code",
   "execution_count": 4,
   "metadata": {
    "collapsed": true
   },
   "outputs": [],
   "source": [
    "StatifiedCV = StratifiedKFold(y            = y_train, \n",
    "                              n_folds      = 10, \n",
    "                              shuffle      = True, \n",
    "                              random_state = SEED)"
   ]
  },
  {
   "cell_type": "code",
   "execution_count": 15,
   "metadata": {
    "collapsed": false,
    "scrolled": false
   },
   "outputs": [
    {
     "name": "stdout",
     "output_type": "stream",
     "text": [
      "CPU times: user 1.29 s, sys: 4 ms, total: 1.3 s\n",
      "Wall time: 1.29 s\n"
     ]
    }
   ],
   "source": [
    "%%time\n",
    "\n",
    "random.seed(SEED)\n",
    "\n",
    "clf_layers = [\n",
    "              Layer(type = 'Rectifier', name         = 'hidden', \n",
    "                                        units        = 200,\n",
    "                                        weight_decay = None,\n",
    "                                        pieces       = None,\n",
    "                                        dropout      = None),\n",
    "    \n",
    "              Layer(type = 'Softmax',   name         = 'output')\n",
    "             ]\n",
    "\n",
    "clf = Classifier(layers            = clf_layers,\n",
    "                 learning_rate     = 0.01,\n",
    "                 learning_rule     = 'momentum',\n",
    "                 learning_momentum = 0.9,\n",
    "                 loss_type         = u'mse',\n",
    "                 mutator           = None,    # data augmentation function\n",
    "                 \n",
    "                 regularize        = None,\n",
    "                 weight_decay      = None,\n",
    "                 dropout_rate      = None,\n",
    "                 \n",
    "                 batch_size        = 25,\n",
    "                 \n",
    "                 valid_size        = 0.1,    \n",
    "                 valid_set         = None,\n",
    "                 \n",
    "                 n_stable          = 10,      # early stopping after ...\n",
    "                 f_stable          = 0.001,   # validation error change threshold\n",
    "                 n_iter            = 100,     # max epochs\n",
    "                 \n",
    "                 random_state      = SEED, \n",
    "                 debug             = False, \n",
    "                 verbose           = True) \n",
    "\n",
    "\n",
    "\n",
    "# param_grid = dict(learning_rate = [0.0001, 0.001, 0.003, 0.01],\n",
    "#                   learning_rule = ['momentum', 'nesterov'],\n",
    "#                   batch_size    = [1, 10, 100],\n",
    "                  \n",
    "#                   hidden__units = [10, 100, 500, 750],\n",
    "#                   hidden__type  = ['Rectifier', 'Sigmoid', 'Tanh'])\n",
    "\n",
    "# grid_clf = GridSearchCV(estimator  = clf, \n",
    "#                         param_grid = param_grid,\n",
    "#                         n_jobs     = -1,  \n",
    "#                         cv         = StatifiedCV)\n",
    "\n",
    "# grid_clf.fit(X_train.values.astype(np.float32), y_train)\n",
    "\n",
    "# print(\"clf_params = {}\".format(grid_clf.best_params_))\n",
    "# print(\"score: {}\".format(grid_clf.best_score_))\n",
    "\n",
    "# clf = grid_clf.best_estimator_\n",
    "\n",
    "\n",
    "\n",
    "\n",
    "clf_params =  {'learning_rate': 0.01, \n",
    "               'learning_rule': 'nesterov', \n",
    "               'hidden__type': 'Rectifier', \n",
    "               'batch_size': 10, \n",
    "               'hidden__units': 100,\n",
    "               'valid_size': None,\n",
    "               'valid_set': None}\n",
    "clf.set_params(**clf_params)\n",
    "clf.fit(X_train.values.astype(np.float32), y_train)"
   ]
  },
  {
   "cell_type": "code",
   "execution_count": 18,
   "metadata": {
    "collapsed": false
   },
   "outputs": [],
   "source": [
    "# from sklearn_utilities import GridSearchHeatmap\n",
    "\n",
    "# GridSearchHeatmap(grid_clf, y_key='learning_rate', x_key='n_estimators')\n",
    "\n",
    "# from sklearn_utilities import plot_validation_curves\n",
    "\n",
    "# plot_validation_curves(grid_clf, param_grid, X_train, y_train, ylim = (0.0, 1.05))"
   ]
  },
  {
   "cell_type": "code",
   "execution_count": 16,
   "metadata": {
    "collapsed": false,
    "scrolled": false
   },
   "outputs": [
    {
     "data": {
      "image/png": "[encoded data removed]",
      "text/plain": [
       "<matplotlib.figure.Figure at 0x7f4be860a750>"
      ]
     },
     "metadata": {},
     "output_type": "display_data"
    }
   ],
   "source": [
    "%%time\n",
    "\n",
    "try:\n",
    "    from sklearn_utilities import plot_learning_curve\n",
    "except:\n",
    "    import imp, os\n",
    "    util = imp.load_source('sklearn_utilities', os.path.expanduser('~/Dropbox/Python/sklearn_utilities.py'))\n",
    "    from sklearn_utilities import plot_learning_curve\n",
    "\n",
    "plot_learning_curve(estimator   = clf, \n",
    "                    title       = 'Learning Curves', \n",
    "                    X           = X_train.values.astype(np.float32), \n",
    "                    y           = y_train, \n",
    "                    ylim        = (0.0, 1.10), \n",
    "                    cv          = StatifiedCV, \n",
    "                    train_sizes = np.linspace(.1, 1.0, 5),\n",
    "                    n_jobs      = -1)\n",
    "\n",
    "plt.show()"
   ]
  },
  {
   "cell_type": "markdown",
   "metadata": {},
   "source": [
    "# Training set predictions"
   ]
  },
  {
   "cell_type": "code",
   "execution_count": 17,
   "metadata": {
    "collapsed": false
   },
   "outputs": [
    {
     "name": "stdout",
     "output_type": "stream",
     "text": [
      "CPU times: user 172 ms, sys: 56 ms, total: 228 ms\n",
      "Wall time: 3.71 s\n"
     ]
    }
   ],
   "source": [
    "%%time\n",
    "\n",
    "train_preds = cross_val_predict(estimator    = clf, \n",
    "                                X            = X_train.values.astype(np.float32), \n",
    "                                y            = y_train, \n",
    "                                cv           = StatifiedCV, \n",
    "                                n_jobs       = -1, \n",
    "                                verbose      = 0, \n",
    "                                fit_params   = None, \n",
    "                                pre_dispatch = '2*n_jobs')\n",
    "\n",
    "y_true, y_pred   = y_train, train_preds"
   ]
  },
  {
   "cell_type": "code",
   "execution_count": 18,
   "metadata": {
    "collapsed": false
   },
   "outputs": [
    {
     "name": "stdout",
     "output_type": "stream",
     "text": [
      "[[396  42]\n",
      " [ 75  63]]\n"
     ]
    },
    {
     "data": {
      "image/png": "[encoded data removed]",
      "text/plain": [
       "<matplotlib.figure.Figure at 0x7f4be97ace90>"
      ]
     },
     "metadata": {},
     "output_type": "display_data"
    },
    {
     "name": "stdout",
     "output_type": "stream",
     "text": [
      "Accuracy 0.7969, mis-class rate 0.2031\n"
     ]
    }
   ],
   "source": [
    "from sklearn.metrics import confusion_matrix\n",
    "cm = confusion_matrix(y_true, y_pred, labels=None)\n",
    "print cm\n",
    "\n",
    "try:\n",
    "    from sklearn_utilities import plot_confusion_matrix\n",
    "except:\n",
    "    import imp, os\n",
    "    util = imp.load_source('sklearn_utilities', os.path.expanduser('~/Dropbox/Python/sklearn_utilities.py'))\n",
    "    from sklearn_utilities import plot_confusion_matrix\n",
    "\n",
    "plot_confusion_matrix(cm, ['Did not Donate','Donated'])\n",
    "\n",
    "accuracy = round(np.trace(cm)/float(np.sum(cm)),4)\n",
    "misclass = 1 - accuracy\n",
    "print(\"Accuracy {}, mis-class rate {}\".format(accuracy,misclass))"
   ]
  },
  {
   "cell_type": "code",
   "execution_count": 19,
   "metadata": {
    "collapsed": false
   },
   "outputs": [
    {
     "data": {
      "image/png": "[encoded data removed]",
      "text/plain": [
       "<matplotlib.figure.Figure at 0x7f4be832ff50>"
      ]
     },
     "metadata": {},
     "output_type": "display_data"
    }
   ],
   "source": [
    "from sklearn.metrics import roc_curve\n",
    "from sklearn.metrics import roc_auc_score\n",
    "from sklearn.metrics import log_loss\n",
    "from sklearn.metrics import f1_score\n",
    "\n",
    "fpr, tpr, thresholds = roc_curve(y_true, y_pred, pos_label=None)\n",
    "\n",
    "\n",
    "plt.figure(figsize=(10,6))\n",
    "plt.plot([0, 1], [0, 1], 'k--')\n",
    "plt.plot(fpr, tpr)\n",
    "\n",
    "AUC = roc_auc_score(y_true, y_pred, average='macro')\n",
    "plt.text(x=0.6,y=0.4,s=\"AUC         {:.4f}\"\\\n",
    "         .format(AUC),\n",
    "        fontsize=16)\n",
    "\n",
    "plt.text(x=0.6,y=0.3,s=\"accuracy {:.2f}%\"\\\n",
    "         .format(accuracy*100),\n",
    "        fontsize=16)\n",
    "\n",
    "logloss = log_loss(y_true, y_pred)\n",
    "plt.text(x=0.6,y=0.2,s=\"LogLoss   {:.4f}\"\\\n",
    "         .format(logloss),\n",
    "        fontsize=16)\n",
    "\n",
    "f1 = f1_score(y_true, y_pred)\n",
    "plt.text(x=0.6,y=0.1,s=\"f1             {:.4f}\"\\\n",
    "         .format(f1),\n",
    "        fontsize=16)\n",
    "\n",
    "plt.xlabel('False positive rate')\n",
    "plt.ylabel('True positive rate')\n",
    "plt.title('ROC curve')\n",
    "plt.show()"
   ]
  },
  {
   "cell_type": "code",
   "execution_count": 20,
   "metadata": {
    "collapsed": false
   },
   "outputs": [
    {
     "data": {
      "image/png": "[encoded data removed]",
      "text/plain": [
       "<matplotlib.figure.Figure at 0x7f4bf30f3e10>"
      ]
     },
     "metadata": {},
     "output_type": "display_data"
    },
    {
     "name": "stdout",
     "output_type": "stream",
     "text": [
      "CPU times: user 10.1 s, sys: 136 ms, total: 10.2 s\n",
      "Wall time: 4min 6s\n"
     ]
    }
   ],
   "source": [
    "%%time\n",
    "\n",
    "score, permutation_scores, pvalue = permutation_test_score(estimator      = clf, \n",
    "                                                           X              = X_train.values.astype(np.float32), \n",
    "                                                           y              = y_train, \n",
    "                                                           cv             = StatifiedCV, \n",
    "                                                           labels         = None,\n",
    "                                                           random_state   = SEED,\n",
    "                                                           verbose        = 0,\n",
    "                                                           n_permutations = 100, \n",
    "                                                           scoring        = None,\n",
    "                                                           n_jobs         = -1) \n",
    "# find mean and stdev of the scores\n",
    "from scipy.stats import norm\n",
    "mu, std = norm.fit(permutation_scores)\n",
    "\n",
    "\n",
    "plt.figure(figsize=(20,8))\n",
    "plt.hist(permutation_scores, 20, label='Permutation scores')\n",
    "\n",
    "ylim = plt.ylim()\n",
    "plt.plot(2 * [score], ylim, '--g', linewidth=3,\n",
    "         label='Classification Score (pvalue {:.4f})'.format(pvalue))\n",
    "         \n",
    "plt.plot(2 * [1. / N_CLASSES], ylim, 'r', linewidth=7, label='Luck')\n",
    "\n",
    "plt.ylim(ylim)\n",
    "plt.title('mu={:.4f}, std={:.4f}'.format(mu,std), fontsize=20)\n",
    "plt.legend(loc='center',fontsize=16)\n",
    "plt.xlabel('Score')\n",
    "plt.show()"
   ]
  },
  {
   "cell_type": "code",
   "execution_count": 23,
   "metadata": {
    "collapsed": false
   },
   "outputs": [
    {
     "name": "stdout",
     "output_type": "stream",
     "text": [
      "scikit_nn                  ,        ,   0.7969 ,  7.0157 , 0.6803 , 0.5185 , 0.7387 , 0.0116\n"
     ]
    }
   ],
   "source": [
    "# format for scores.csv file\n",
    "import re\n",
    "algo = re.search(r\"submission_(.*?)\\.csv\", submission_filename).group(1)\n",
    "print(\"{: <26} ,        ,   {:.4f} ,  {:.4f} , {:.4f} , {:.4f} , {:.4f} , {:.4f}\"\\\n",
    "      .format(algo,accuracy,logloss,AUC,f1,mu,std))"
   ]
  },
  {
   "cell_type": "markdown",
   "metadata": {},
   "source": [
    "# Predict the leaderboard score with linear regression"
   ]
  },
  {
   "cell_type": "code",
   "execution_count": 24,
   "metadata": {
    "collapsed": false
   },
   "outputs": [
    {
     "name": "stdout",
     "output_type": "stream",
     "text": [
      "clear all but functions rm(list = setdiff(ls(), lsf.str()))\n",
      "R functions in Dropbox:\n",
      " [1] \"confusion.matrix_ROC.R\" \"eda.R\"                  \"knitr_settings.R\"      \n",
      " [4] \"lm_utilities.R\"         \"lsp.R\"                  \"matrix.power.R\"        \n",
      " [7] \"metrics.R\"              \"multiplot.R\"            \"my.special.functions.R\"\n",
      "[10] \"NOT_IN.R\"               \"SDAFE.R\"                \"signOnToTwitter.R\"     \n",
      "[13] \"source.dropbox.R\"       \"stem_plot.R\"           \n",
      "to load these functions: source(\"/home/george/Dropbox/R_functions/*.R\")\n",
      "\n",
      "To save graphical parameters: opar = par(no.readonly=TRUE)\n",
      "to restore graphical parameters: par(opar)\n"
     ]
    }
   ],
   "source": [
    "# load the R extension\n",
    "%load_ext rpy2.ipython\n",
    "\n",
    "# see http://ipython.readthedocs.org/en/stable/config/extensions/index.html?highlight=rmagic\n",
    "# see http://rpy.sourceforge.net/rpy2/doc-2.4/html/interactive.html#module-rpy2.ipython.rmagic"
   ]
  },
  {
   "cell_type": "code",
   "execution_count": 25,
   "metadata": {
    "collapsed": false
   },
   "outputs": [],
   "source": [
    "# Import python variables into R\n",
    "%R -i accuracy,logloss,AUC,f1,mu,std"
   ]
  },
  {
   "cell_type": "code",
   "execution_count": 26,
   "metadata": {
    "collapsed": false
   },
   "outputs": [
    {
     "data": {
      "text/plain": [
       "     fit    lwr    upr\n",
       "1 0.8708 -0.037 1.7786\n"
      ]
     },
     "metadata": {},
     "output_type": "display_data"
    }
   ],
   "source": [
    "%%R\n",
    "# read in the scores.csv file and perform a linear regression with it using this process's variables\n",
    "\n",
    "score_data = read.csv('../input/scores.csv')\n",
    "\n",
    "lm.fit     = lm(leaderboard_score ~ accuracy + logloss + AUC + f1 + mu + std, \n",
    "                data      = score_data, \n",
    "                na.action = na.omit)\n",
    "\n",
    "slm.fit = step(lm.fit, direction = \"both\", trace=0)\n",
    "\n",
    "predicted_leaderboard_score = predict(object   = slm.fit, \n",
    "                                      newdata  = data.frame(accuracy,logloss,AUC,f1,mu,std),\n",
    "                                      interval = \"prediction\", level = 0.99)\n",
    "\n",
    "print(round(predicted_leaderboard_score,4))"
   ]
  },
  {
   "cell_type": "markdown",
   "metadata": {},
   "source": [
    "# --------------------------------------------------------------------------------------------"
   ]
  },
  {
   "cell_type": "markdown",
   "metadata": {
    "collapsed": true
   },
   "source": [
    "# Test Set Predictions"
   ]
  },
  {
   "cell_type": "markdown",
   "metadata": {},
   "source": [
    "## Re-fit with the full training set"
   ]
  },
  {
   "cell_type": "code",
   "execution_count": 27,
   "metadata": {
    "collapsed": false
   },
   "outputs": [
    {
     "data": {
      "text/plain": [
       "Classifier(batch_size=10, debug=False, dropout_rate=None, f_stable=0.001,\n",
       "      hidden=<sknn.nn.Layer `Rectifier`: name='hidden', units=100>,\n",
       "      layers=[<sknn.nn.Layer `Rectifier`: name='hidden', units=100>, <sknn.nn.Layer `Softmax`: name='output', units=2>],\n",
       "      learning_momentum=0.9, learning_rate=0.01, learning_rule='nesterov',\n",
       "      loss_type=u'mse', mutator=None, n_iter=100, n_stable=10,\n",
       "      output=<sknn.nn.Layer `Softmax`: name='output', units=2>,\n",
       "      random_state=97, regularize=None, valid_set=None, valid_size=None,\n",
       "      verbose=True, weight_decay=None)"
      ]
     },
     "execution_count": 27,
     "metadata": {},
     "output_type": "execute_result"
    }
   ],
   "source": [
    "clf.set_params(**clf_params)\n",
    "clf.fit(X_train.values.astype(np.float32), y_train)"
   ]
  },
  {
   "cell_type": "markdown",
   "metadata": {},
   "source": [
    "## Load the test data"
   ]
  },
  {
   "cell_type": "code",
   "execution_count": 28,
   "metadata": {
    "collapsed": false
   },
   "outputs": [],
   "source": [
    "from load_blood_data import load_blood_data\n",
    "\n",
    "X_test, IDs = load_blood_data(train=False, SEED   = SEED, \n",
    "                                           scale  = scale,\n",
    "                                           minmax = minmax,\n",
    "                                           norm   = norm,\n",
    "                                           nointercept = nointercept,\n",
    "                                           engineering = engineering)"
   ]
  },
  {
   "cell_type": "markdown",
   "metadata": {},
   "source": [
    "# Predict the test set with the fitted model"
   ]
  },
  {
   "cell_type": "code",
   "execution_count": 30,
   "metadata": {
    "collapsed": false
   },
   "outputs": [
    {
     "name": "stdout",
     "output_type": "stream",
     "text": [
      "[1 0 0 0 1 1 0 0 0 0]\n",
      "[[  3.69503021e-01   6.30496979e-01]\n",
      " [  9.12029505e-01   8.79704878e-02]\n",
      " [  9.53740537e-01   4.62594479e-02]\n",
      " [  8.28116298e-01   1.71883717e-01]\n",
      " [  3.24051440e-01   6.75948560e-01]\n",
      " [  6.41991720e-02   9.35800850e-01]\n",
      " [  8.63493204e-01   1.36506796e-01]\n",
      " [  9.82012033e-01   1.79879777e-02]\n",
      " [  9.99999881e-01   1.24267245e-07]\n",
      " [  9.88091528e-01   1.19084781e-02]]\n",
      "[0.63049698, 0.087970488, 0.046259448, 0.17188372, 0.67594856, 0.93580085, 0.1365068, 0.017987978, 1.2426725e-07, 0.011908478]\n"
     ]
    }
   ],
   "source": [
    "y_pred = clf.predict(X_test.values.astype(np.float32)).ravel()\n",
    "print(y_pred[:10])\n",
    "\n",
    "try:\n",
    "    y_pred_probs  = clf.predict_proba(X_test.values.astype(np.float32))\n",
    "    print(y_pred_probs[:10])\n",
    "    donate_probs  = [prob[1] for prob in y_pred_probs]\n",
    "except Exception,e:\n",
    "    print(e)\n",
    "    donate_probs = [0.65 if x>0 else 1-0.65 for x in y_pred]\n",
    "    \n",
    "print(donate_probs[:10])"
   ]
  },
  {
   "cell_type": "markdown",
   "metadata": {},
   "source": [
    "# Create the submission file"
   ]
  },
  {
   "cell_type": "code",
   "execution_count": 31,
   "metadata": {
    "collapsed": false
   },
   "outputs": [],
   "source": [
    "assert len(IDs)==len(donate_probs)\n",
    "\n",
    "f = open(submission_filename, \"w\")\n",
    "\n",
    "f.write(\",Made Donation in March 2007\\n\")\n",
    "for ID, prob in zip(IDs, donate_probs):\n",
    "    f.write(\"{},{}\\n\".format(ID,prob))\n",
    "    \n",
    "f.close()"
   ]
  },
  {
   "cell_type": "code",
   "execution_count": null,
   "metadata": {
    "collapsed": true
   },
   "outputs": [],
   "source": []
  }
 ],
 "metadata": {
  "kernelspec": {
   "display_name": "Python 2",
   "language": "python",
   "name": "python2"
  },
  "language_info": {
   "codemirror_mode": {
    "name": "ipython",
    "version": 2
   },
   "file_extension": ".py",
   "mimetype": "text/x-python",
   "name": "python",
   "nbconvert_exporter": "python",
   "pygments_lexer": "ipython2",
   "version": "2.7.10"
  }
 },
 "nbformat": 4,
 "nbformat_minor": 0
}
